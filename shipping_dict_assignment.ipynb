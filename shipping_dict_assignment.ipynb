{
 "cells": [
  {
   "cell_type": "code",
   "execution_count": 165,
   "metadata": {},
   "outputs": [
    {
     "name": "stdout",
     "output_type": "stream",
     "text": [
      "{'INDIA': [20, 10, 5], 'USA': [20, 10, 5], 'UK': [20, 10, 5]}\n",
      "The shipping rates for INDIA with a total 20 pounds is $9\n",
      "The shipping rates for INDIA with a total 10 pounds is $8\n",
      "The shipping rates for INDIA with a total 5 pounds is $7\n",
      "The shipping rates for USA with a total 20 pounds is $19\n",
      "The shipping rates for USA with a total 10 pounds is $18\n",
      "The shipping rates for USA with a total 5 pounds is $17\n",
      "The shipping rates for UK with a total 20 pounds is $29\n",
      "The shipping rates for UK with a total 10 pounds is $28\n",
      "The shipping rates for UK with a total 5 pounds is $27\n"
     ]
    }
   ],
   "source": [
    "def shipping_charges():\n",
    "    dict_country_values={\"INDIA\":[20,10,5],\"USA\":[20,10,5],\"UK\":[20,10,5]}\n",
    "    print(dict_country_values)\n",
    "    for x,y in dict_country_values.items():\n",
    "        if(x==\"INDIA\"):\n",
    "            if(y[0]==20):\n",
    "                print(f\"The shipping rates for {x} with a total {y[0]} pounds is $9\")\n",
    "            if(y[1]==10):\n",
    "                print(f\"The shipping rates for {x} with a total {y[1]} pounds is $8\")\n",
    "            if(y[2]==5):\n",
    "                print(f\"The shipping rates for {x} with a total {y[2]} pounds is $7\")\n",
    "        elif(x==\"USA\"):\n",
    "            if(y[0]==20):\n",
    "                print(f\"The shipping rates for {x} with a total {y[0]} pounds is $19\")\n",
    "            if(y[1]==10):\n",
    "                print(f\"The shipping rates for {x} with a total {y[1]} pounds is $18\")\n",
    "            if(y[2]==5):\n",
    "                print(f\"The shipping rates for {x} with a total {y[2]} pounds is $17\")\n",
    "        elif(x==\"UK\"):\n",
    "            if(y[0]==20):\n",
    "                print(f\"The shipping rates for {x} with a total {y[0]} pounds is $29\")\n",
    "            if(y[1]==10):\n",
    "                print(f\"The shipping rates for {x} with a total {y[1]} pounds is $28\")\n",
    "            if(y[2]==5):\n",
    "                print(f\"The shipping rates for {x} with a total {y[2]} pounds is $27\")\n",
    "        else:\n",
    "            print(\"Country not in dictionary\")\n",
    "\n",
    "        \n",
    "        \n",
    "shipping_charges()        "
   ]
  },
  {
   "cell_type": "code",
   "execution_count": 177,
   "metadata": {},
   "outputs": [
    {
     "name": "stdout",
     "output_type": "stream",
     "text": [
      "0x75\n",
      "0o117\n",
      "279\n",
      "0b1110101\n",
      "117\n",
      "23\n"
     ]
    },
    {
     "data": {
      "text/plain": [
       "'0x74'"
      ]
     },
     "execution_count": 177,
     "metadata": {},
     "output_type": "execute_result"
    }
   ],
   "source": [
    "print(hex(117))\n",
    "print(oct(79))\n",
    "print(int('117',16))\n",
    "print(bin(117))\n",
    "print(int('0b1110101',2))\n",
    "print(int('27',8))\n",
    "hex(116)"
   ]
  },
  {
   "cell_type": "code",
   "execution_count": 24,
   "metadata": {},
   "outputs": [
    {
     "name": "stdout",
     "output_type": "stream",
     "text": [
      "{'INDIA': [20, 10, 5], 'USA': [20, 10, 5], 'UK': [20, 10, 5]}\n",
      "The shipping rates for INDIA with a total 20 pounds is $9\n",
      "The shipping rates for INDIA with a total 10 pounds is $8\n",
      "The shipping rates for INDIA with a total 5 pounds is $7\n"
     ]
    }
   ],
   "source": [
    "dict_country_values={\"INDIA\":[20,10,5],\"USA\":[20,10,5],\"UK\":[20,10,5]}\n",
    "print(dict_country_values)\n",
    "for x,y in dict_country_values.items():\n",
    "        if(x==\"INDIA\"):\n",
    "            for z in y:\n",
    "                if(z==20):\n",
    "                    print(f\"The shipping rates for {x} with a total {y[0]} pounds is $9\")\n",
    "                if(z==10):\n",
    "                    print(f\"The shipping rates for {x} with a total {y[1]} pounds is $8\")\n",
    "                if(z==5):\n",
    "                    print(f\"The shipping rates for {x} with a total {y[2]} pounds is $7\")"
   ]
  },
  {
   "cell_type": "code",
   "execution_count": 168,
   "metadata": {},
   "outputs": [
    {
     "name": "stdout",
     "output_type": "stream",
     "text": [
      "Please enter the month to get the length of days for that month:Aug\n"
     ]
    },
    {
     "ename": "TypeError",
     "evalue": "%d format: a number is required, not str",
     "output_type": "error",
     "traceback": [
      "\u001b[1;31m---------------------------------------------------------------------------\u001b[0m",
      "\u001b[1;31mTypeError\u001b[0m                                 Traceback (most recent call last)",
      "\u001b[1;32m<ipython-input-168-b483bc98af96>\u001b[0m in \u001b[0;36m<module>\u001b[1;34m\u001b[0m\n\u001b[0;32m     14\u001b[0m            }\n\u001b[0;32m     15\u001b[0m \u001b[0mdict_month\u001b[0m\u001b[1;33m\u001b[0m\u001b[1;33m\u001b[0m\u001b[0m\n\u001b[1;32m---> 16\u001b[1;33m \u001b[0mprint\u001b[0m\u001b[1;33m(\u001b[0m\u001b[1;34m\"The number of days for the %d month entered is %s \"\u001b[0m \u001b[1;33m%\u001b[0m \u001b[1;33m(\u001b[0m\u001b[0mmonth\u001b[0m\u001b[1;33m,\u001b[0m\u001b[0mdict_month\u001b[0m\u001b[1;33m[\u001b[0m\u001b[0mmonth\u001b[0m\u001b[1;33m]\u001b[0m\u001b[1;33m)\u001b[0m\u001b[1;33m)\u001b[0m\u001b[1;33m\u001b[0m\u001b[1;33m\u001b[0m\u001b[0m\n\u001b[0m",
      "\u001b[1;31mTypeError\u001b[0m: %d format: a number is required, not str"
     ]
    }
   ],
   "source": [
    "month=input(\"Please enter the month to get the length of days for that month:\")\n",
    "dict_month={\"Jan\":31,\n",
    "            \"Feb\":29,\n",
    "            \"Mar\":31,\n",
    "            \"Apr\":30,\n",
    "            \"May\":31,\n",
    "            \"Jun\":30,\n",
    "            \"Jul\":31,\n",
    "            \"Aug\":31,\n",
    "            \"Sep\":30,\n",
    "            \"Oct\":31,\n",
    "            \"Nov\":30,\n",
    "            \"Dec\":31\n",
    "           }\n",
    "dict_month\n",
    "print(\"The number of days for the %s month entered is %s \" % (month,dict_month[month]))"
   ]
  },
  {
   "cell_type": "code",
   "execution_count": 44,
   "metadata": {},
   "outputs": [
    {
     "name": "stdout",
     "output_type": "stream",
     "text": [
      "16\n",
      "17\n"
     ]
    }
   ],
   "source": [
    "value1,value2=16,17\n",
    "print(value1)\n",
    "print(value2)"
   ]
  },
  {
   "cell_type": "code",
   "execution_count": 64,
   "metadata": {},
   "outputs": [
    {
     "name": "stdout",
     "output_type": "stream",
     "text": [
      "['a', 'b', 'v', 'A', 'C', 'B']\n"
     ]
    }
   ],
   "source": [
    "string1=\"a b v A C B\"\n",
    "str_list=string1.split(\" \")\n",
    "print(str_list)\n"
   ]
  },
  {
   "cell_type": "code",
   "execution_count": 65,
   "metadata": {},
   "outputs": [
    {
     "data": {
      "text/plain": [
       "['a', 'b', 'v', 'A', 'C', 'B']"
      ]
     },
     "execution_count": 65,
     "metadata": {},
     "output_type": "execute_result"
    }
   ],
   "source": [
    "str_list=list(string1.split(\" \"))\n",
    "str_list"
   ]
  },
  {
   "cell_type": "code",
   "execution_count": 66,
   "metadata": {},
   "outputs": [
    {
     "data": {
      "text/plain": [
       "['A', 'B', 'C', 'a', 'b', 'v']"
      ]
     },
     "execution_count": 66,
     "metadata": {},
     "output_type": "execute_result"
    }
   ],
   "source": [
    "str_sorted=sorted(str_list)\n",
    "str_sorted"
   ]
  },
  {
   "cell_type": "code",
   "execution_count": 75,
   "metadata": {},
   "outputs": [
    {
     "ename": "AttributeError",
     "evalue": "'set' object has no attribute 'join'",
     "output_type": "error",
     "traceback": [
      "\u001b[1;31m---------------------------------------------------------------------------\u001b[0m",
      "\u001b[1;31mAttributeError\u001b[0m                            Traceback (most recent call last)",
      "\u001b[1;32m<ipython-input-75-2ee5ba36c189>\u001b[0m in \u001b[0;36m<module>\u001b[1;34m\u001b[0m\n\u001b[0;32m      6\u001b[0m \u001b[0mstr_set1\u001b[0m\u001b[1;33m\u001b[0m\u001b[1;33m\u001b[0m\u001b[0m\n\u001b[0;32m      7\u001b[0m \u001b[0mstr_set2\u001b[0m\u001b[1;33m=\u001b[0m\u001b[1;33m{\u001b[0m\u001b[1;34m\"Hi\"\u001b[0m\u001b[1;33m,\u001b[0m\u001b[1;34m\"Hello\"\u001b[0m\u001b[1;33m}\u001b[0m\u001b[1;33m\u001b[0m\u001b[1;33m\u001b[0m\u001b[0m\n\u001b[1;32m----> 8\u001b[1;33m \u001b[0mstr_set3\u001b[0m\u001b[1;33m=\u001b[0m\u001b[1;33m{\u001b[0m\u001b[0mstr_set2\u001b[0m\u001b[1;33m.\u001b[0m\u001b[0mjoin\u001b[0m\u001b[1;33m(\u001b[0m\u001b[0mstr_set1\u001b[0m\u001b[1;33m)\u001b[0m\u001b[1;33m}\u001b[0m\u001b[1;33m\u001b[0m\u001b[1;33m\u001b[0m\u001b[0m\n\u001b[0m\u001b[0;32m      9\u001b[0m \u001b[0mstr_set3\u001b[0m\u001b[1;33m\u001b[0m\u001b[1;33m\u001b[0m\u001b[0m\n",
      "\u001b[1;31mAttributeError\u001b[0m: 'set' object has no attribute 'join'"
     ]
    }
   ],
   "source": [
    "str2=\"a A B b\"\n",
    "str_list=str2.split(\" \")\n",
    "str_set=set(str_list)\n",
    "str_set\n",
    "str_set1={\"H\",\"E\",\"E\",\"L\",\"O\"}\n",
    "str_set1\n",
    "str_set2={\"Hi\",\"Hello\"}\n",
    "str_set3={str_set2.join(str_set1)}\n",
    "str_set3"
   ]
  },
  {
   "cell_type": "code",
   "execution_count": 76,
   "metadata": {},
   "outputs": [
    {
     "data": {
      "text/plain": [
       "['Rekha', 'Kiran', 'Ritvik', 'Rekha', 'Pranav', 'Kiran']"
      ]
     },
     "execution_count": 76,
     "metadata": {},
     "output_type": "execute_result"
    }
   ],
   "source": [
    "list1=[\"Rekha\",\"Kiran\",\"Ritvik\",\"Rekha\",\"Pranav\",\"Kiran\"]\n",
    "list1"
   ]
  },
  {
   "cell_type": "code",
   "execution_count": 77,
   "metadata": {},
   "outputs": [
    {
     "name": "stdout",
     "output_type": "stream",
     "text": [
      "2\n"
     ]
    }
   ],
   "source": [
    "print(list1.count(\"Rekha\"))"
   ]
  },
  {
   "cell_type": "code",
   "execution_count": 163,
   "metadata": {},
   "outputs": [
    {
     "name": "stdout",
     "output_type": "stream",
     "text": [
      "The element Rekha in list1 is repeated 2 times\n",
      "The element Kiran in list1 is repeated 2 times\n",
      "The element Rekha in list1 is repeated 2 times\n",
      "The element Kiran in list1 is repeated 2 times\n"
     ]
    }
   ],
   "source": [
    "for i in list1:\n",
    "    if list1.count(i)>1:\n",
    "        print(\"The element %s in list1 is repeated %s times\" %(i,list1.count(i)))\n"
   ]
  },
  {
   "cell_type": "code",
   "execution_count": 86,
   "metadata": {},
   "outputs": [
    {
     "name": "stdout",
     "output_type": "stream",
     "text": [
      "Yes duplicates exist\n"
     ]
    }
   ],
   "source": [
    "set1=set(list1)\n",
    "if(len(list1)>len(set1)):\n",
    "    print(\"Yes duplicates exist\")\n",
    "else:\n",
    "    print(\"No duplicates exist\")\n",
    "    "
   ]
  },
  {
   "cell_type": "code",
   "execution_count": 92,
   "metadata": {},
   "outputs": [
    {
     "name": "stdout",
     "output_type": "stream",
     "text": [
      "<class 'complex'>\n"
     ]
    }
   ],
   "source": [
    "print(type(65j))"
   ]
  },
  {
   "cell_type": "code",
   "execution_count": 95,
   "metadata": {},
   "outputs": [
    {
     "data": {
      "text/plain": [
       "['Kiran', 'Pranav', 'Rekha', 'Ritvik']"
      ]
     },
     "execution_count": 95,
     "metadata": {},
     "output_type": "execute_result"
    }
   ],
   "source": [
    "set2=sorted(set1)\n",
    "set2"
   ]
  },
  {
   "cell_type": "code",
   "execution_count": 105,
   "metadata": {},
   "outputs": [
    {
     "name": "stdout",
     "output_type": "stream",
     "text": [
      "(23, 34, 45, 56, 12, 2, 3)\n",
      "[2, 3, 12, 23, 34, 45, 56]\n"
     ]
    },
    {
     "data": {
      "text/plain": [
       "(2, 3, 12, 23, 34, 45, 56)"
      ]
     },
     "execution_count": 105,
     "metadata": {},
     "output_type": "execute_result"
    }
   ],
   "source": [
    "tuple1=(23,34,45,56,12,2,3)\n",
    "print(tuple1)\n",
    "tuple2=sorted(tuple1)\n",
    "print(tuple2)\n",
    "sorted_tuple=tuple(tuple2)\n",
    "sorted_tuple"
   ]
  },
  {
   "cell_type": "code",
   "execution_count": 98,
   "metadata": {},
   "outputs": [
    {
     "name": "stdout",
     "output_type": "stream",
     "text": [
      "['Apr', 'Aug', 'Dec', 'Feb', 'Jan', 'Jul', 'Jun', 'Mar', 'May', 'Nov', 'Oct', 'Sep']\n"
     ]
    }
   ],
   "source": [
    "dict_sorted=sorted(dict_month)\n",
    "print(dict_sorted)"
   ]
  },
  {
   "cell_type": "code",
   "execution_count": 110,
   "metadata": {},
   "outputs": [
    {
     "name": "stdout",
     "output_type": "stream",
     "text": [
      "[56, 56, 45, 45, 34, 34, 23, 23, 12, 12, 3, 3, 2, 2]\n"
     ]
    }
   ],
   "source": [
    "tuple3=tuple1+sorted_tuple\n",
    "print(sorted(tuple3,reverse=True))"
   ]
  },
  {
   "cell_type": "code",
   "execution_count": 112,
   "metadata": {},
   "outputs": [
    {
     "name": "stdout",
     "output_type": "stream",
     "text": [
      "Enter any string:what are you doing my boys\n",
      "<class 'list'>\n",
      "<class 'list'>\n",
      "are boys doing my what you\n"
     ]
    }
   ],
   "source": [
    "str1=input(\"Enter any string:\")\n",
    "words=str1.split(\" \")\n",
    "print(type(words))\n",
    "set1=set(words)\n",
    "set1_sorted=sorted(set1)\n",
    "print(type(set1_sorted))\n",
    "print(\" \".join(set1_sorted))"
   ]
  },
  {
   "cell_type": "code",
   "execution_count": 120,
   "metadata": {},
   "outputs": [
    {
     "name": "stdout",
     "output_type": "stream",
     "text": [
      "Enter any string with spaces:hello how are you\n",
      "('hello', 'how', 'are', 'you')\n",
      "['are', 'hello', 'how', 'you']\n",
      "are hello how you\n"
     ]
    }
   ],
   "source": [
    "str2=input(\"Enter any string with spaces:\")\n",
    "words1=str2.split(\" \")\n",
    "tuple_words1=tuple(words1)\n",
    "print(tuple_words1)\n",
    "sorted_tuple_words1=sorted(tuple_words1)\n",
    "print(sorted_tuple_words1)\n",
    "print(\" \".join(sorted_tuple_words1))\n"
   ]
  },
  {
   "cell_type": "code",
   "execution_count": 122,
   "metadata": {},
   "outputs": [
    {
     "name": "stdout",
     "output_type": "stream",
     "text": [
      "30 40\n"
     ]
    }
   ],
   "source": [
    "a,b=30,40\n",
    "print(a,b)"
   ]
  },
  {
   "cell_type": "code",
   "execution_count": 129,
   "metadata": {},
   "outputs": [
    {
     "name": "stdout",
     "output_type": "stream",
     "text": [
      "Variables are 10,20,30\n"
     ]
    },
    {
     "data": {
      "text/plain": [
       "(None, 60)"
      ]
     },
     "execution_count": 129,
     "metadata": {},
     "output_type": "execute_result"
    }
   ],
   "source": [
    "def add_int(a,b,c):\n",
    "    d=a+b+c\n",
    "    return print(f\"Variables are {a},{b},{c}\"),d\n",
    "d=add_int(10,20,30)\n",
    "d\n"
   ]
  },
  {
   "cell_type": "code",
   "execution_count": 162,
   "metadata": {},
   "outputs": [
    {
     "name": "stdout",
     "output_type": "stream",
     "text": [
      "10\n"
     ]
    }
   ],
   "source": [
    "res=0\n",
    "def add_int(*args):\n",
    "     for i in range(5):\n",
    "        global res\n",
    "        res=res+args[i]\n",
    "        return res        \n",
    "result=add_int(10,20,20,30)\n",
    "print(result)"
   ]
  },
  {
   "cell_type": "code",
   "execution_count": 147,
   "metadata": {},
   "outputs": [
    {
     "name": "stdout",
     "output_type": "stream",
     "text": [
      "0\n",
      "1\n",
      "2\n",
      "3\n",
      "4\n"
     ]
    }
   ],
   "source": [
    "for i in range(5):\n",
    "    print(i)\n"
   ]
  },
  {
   "cell_type": "code",
   "execution_count": null,
   "metadata": {},
   "outputs": [],
   "source": []
  }
 ],
 "metadata": {
  "kernelspec": {
   "display_name": "Python 3",
   "language": "python",
   "name": "python3"
  },
  "language_info": {
   "codemirror_mode": {
    "name": "ipython",
    "version": 3
   },
   "file_extension": ".py",
   "mimetype": "text/x-python",
   "name": "python",
   "nbconvert_exporter": "python",
   "pygments_lexer": "ipython3",
   "version": "3.8.5"
  }
 },
 "nbformat": 4,
 "nbformat_minor": 4
}
