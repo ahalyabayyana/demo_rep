{
 "cells": [
  {
   "cell_type": "code",
   "execution_count": 45,
   "metadata": {},
   "outputs": [],
   "source": [
    "class Classroom:  #baseclass\n",
    "    name=None\n",
    "    department=None\n",
    "    def __init__(self,name,department):\n",
    "        self.name=name\n",
    "        self.department=department\n",
    "        print(\"Name is: \",name,\"\\nDepartment is :\", department)\n",
    "    def ass_rollno(self):\n",
    "           print(\"Roll number assigned is 1\")\n",
    "class School(Classroom):  #child class for baseclass, parent of child2\n",
    "    school_name=\"Aditya School\"\n",
    "    location=\"Rjy\"\n",
    "    def __init__(self,school_name,location):\n",
    "        self.school_name=school_name\n",
    "        self.location=location\n",
    "        print(f\"The school name is {school_name} and location is {location}\")\n",
    "    def schoolSal(self,sal):\n",
    "        sal=sal*10\n",
    "        print(f\"Salary amount is {sal}\")\n",
    "\n",
    "\n",
    "        \n",
    "        \n",
    "class AdityaSchool(School):  #child2\n",
    "    def __init__(self):\n",
    "        print(\"Welcome to Aditya School\")\n",
    "       \n",
    "    \n",
    "\n",
    "\n",
    "\n",
    "        \n",
    "        \n",
    "    "
   ]
  },
  {
   "cell_type": "code",
   "execution_count": 49,
   "metadata": {},
   "outputs": [
    {
     "name": "stdout",
     "output_type": "stream",
     "text": [
      "Welcome to Aditya School\n",
      "Rjy\n",
      "Salary amount is 300000\n",
      "Roll number assigned is 1\n"
     ]
    }
   ],
   "source": [
    "school2=AdityaSchool()\n",
    "print(school2.location)\n",
    "school2.schoolSal(30000)\n",
    "school2.ass_rollno()\n"
   ]
  },
  {
   "cell_type": "code",
   "execution_count": 248,
   "metadata": {},
   "outputs": [
    {
     "name": "stdout",
     "output_type": "stream",
     "text": [
      "Welcome to child class constructor\n",
      "values of a and b inside base classc are : 2 6\n",
      "Welcome to base class constructor\n",
      "Result in Operation_child is : 68\n",
      "values of a and b inside base classc are : 2 5\n",
      "Welcome to base class constructor\n",
      "Result in Operation_base is : 105\n"
     ]
    }
   ],
   "source": [
    "class Operation_base:    #base class \n",
    "    def __init__(self,a,b):\n",
    "        self.a=a\n",
    "        self.b=b\n",
    "        print(\"values of a and b inside base classc are :\",a,b)\n",
    "        print(\"Welcome to base class constructor\")\n",
    "        \n",
    "    def add(self,a,b):\n",
    "        c=a+b+100\n",
    "        print(\"Result in Operation_base is :\",c)\n",
    "        \n",
    "class Operation_child(Operation_base):  #derived or child class\n",
    "    def __init__(self,a,b):\n",
    "        print(\"Welcome to child class constructor\")\n",
    "        super().__init__(a,b) #constructor from base class will be called with operators in child class\n",
    "    def add(self,a,b):  #base class add will be overriden with child class add method\n",
    "        c=a+b\n",
    "        print(\"Result in Operation_child is :\",c)\n",
    "        \n",
    "obj1=Operation_child(2,6)\n",
    "obj1.add(23,45)\n",
    "obj2=Operation_base(2,5)\n",
    "obj2.add(2,3)\n",
    "\n",
    "        "
   ]
  },
  {
   "cell_type": "code",
   "execution_count": 129,
   "metadata": {},
   "outputs": [
    {
     "name": "stdout",
     "output_type": "stream",
     "text": [
      "a and b are None\n"
     ]
    }
   ],
   "source": [
    "#operator Overloading\n",
    "def add_var(a=None,b=None):\n",
    "    if(a==b==None):\n",
    "        print(\"a and b are None\")\n",
    "    elif(a==None or b==None):\n",
    "        print(\"one of a or b is None\")\n",
    "    else:\n",
    "        print(f\"result is {a+b}\")\n",
    "        \n",
    "add_var()        "
   ]
  },
  {
   "cell_type": "code",
   "execution_count": 170,
   "metadata": {},
   "outputs": [],
   "source": [
    "def add_moreinputs(*args):\n",
    "    result=0\n",
    "    for i in args:\n",
    "        result=result+i\n",
    "    print(\"Addition of numbers entered is: \",result)    "
   ]
  },
  {
   "cell_type": "code",
   "execution_count": 171,
   "metadata": {},
   "outputs": [
    {
     "name": "stdout",
     "output_type": "stream",
     "text": [
      "Addition of numbers entered is:  60\n"
     ]
    }
   ],
   "source": [
    "add_moreinputs(10,20,30)"
   ]
  },
  {
   "cell_type": "code",
   "execution_count": 145,
   "metadata": {},
   "outputs": [
    {
     "name": "stdout",
     "output_type": "stream",
     "text": [
      "3\n"
     ]
    }
   ],
   "source": [
    "def Name(*args):\n",
    "    count=0\n",
    "    for i in args:\n",
    "        if(len(i)>5):\n",
    "            count+=1\n",
    "    return count\n",
    "    \n",
    "count=Name(\"Ahalya\",\"rekha\",\"ritvik\",\"kirang\")\n",
    "print(count)\n",
    "    "
   ]
  },
  {
   "cell_type": "code",
   "execution_count": 297,
   "metadata": {},
   "outputs": [],
   "source": [
    "def User_details(**details):\n",
    "    count=0\n",
    "    print(details)\n",
    "    \n",
    "    for i,j in enumerate(details):\n",
    "        print(i,j)\n",
    "#         if(details[\"age\"]>=30):\n",
    "        count+=1\n",
    "    return count    "
   ]
  },
  {
   "cell_type": "code",
   "execution_count": 295,
   "metadata": {},
   "outputs": [
    {
     "name": "stdout",
     "output_type": "stream",
     "text": [
      "{'name': 'ahalya', 'age': 39, 'mobile': 202938}\n",
      "0 name\n",
      "1 age\n",
      "2 mobile\n",
      "3\n"
     ]
    }
   ],
   "source": [
    "count=User_details(name=\"ahalya\",age=39,mobile=202938)\n",
    "print(count)"
   ]
  },
  {
   "cell_type": "code",
   "execution_count": 189,
   "metadata": {},
   "outputs": [
    {
     "name": "stdout",
     "output_type": "stream",
     "text": [
      "ahalya\n",
      "rekha\n",
      "bayyana\n"
     ]
    }
   ],
   "source": [
    "my_list=[\"ahalya\",\"rekha\",\"bayyana\"]\n",
    "a,b,c=my_list\n",
    "print(a)\n",
    "print(b)\n",
    "print(c)"
   ]
  },
  {
   "cell_type": "code",
   "execution_count": 190,
   "metadata": {},
   "outputs": [
    {
     "name": "stdout",
     "output_type": "stream",
     "text": [
      "(1, 2, 3, 4)\n"
     ]
    }
   ],
   "source": [
    "var=1,2,3,4\n",
    "print(var)"
   ]
  },
  {
   "cell_type": "code",
   "execution_count": 191,
   "metadata": {},
   "outputs": [
    {
     "name": "stdout",
     "output_type": "stream",
     "text": [
      "18\n"
     ]
    }
   ],
   "source": [
    "def mul(a,b):          #unpacking of varaibales when sent as list\n",
    "    print(a*b)\n",
    "lst=[3,6]    \n",
    "mul(*lst)    "
   ]
  },
  {
   "cell_type": "code",
   "execution_count": 249,
   "metadata": {},
   "outputs": [
    {
     "name": "stdout",
     "output_type": "stream",
     "text": [
      "parent constructor\n",
      "child constructor\n",
      "100\n",
      "(<class '__main__.Child_add'>, <class '__main__.Parent_add'>, <class 'object'>)\n"
     ]
    }
   ],
   "source": [
    "class Parent_add:\n",
    "    def __init__(self):\n",
    "        print(\"parent constructor\")\n",
    "    def add_parent(self,a,b):\n",
    "        self.a=a\n",
    "        self.b=b\n",
    "        return (a+b)\n",
    "class Child_add(Parent_add):\n",
    "    def __init__(self):\n",
    "        super().__init__()\n",
    "        print(\"child constructor\")\n",
    "    def add_parent(self,a,b=100):\n",
    "        self.a=a\n",
    "        self.b=b\n",
    "        return (a+b)\n",
    "    \n",
    "child_obj=Child_add()\n",
    "value=child_obj.add_parent(50,50)\n",
    "print(value)\n",
    "print(Child_add.__mro__)\n",
    "        "
   ]
  },
  {
   "cell_type": "code",
   "execution_count": 258,
   "metadata": {},
   "outputs": [
    {
     "name": "stdout",
     "output_type": "stream",
     "text": [
      "20\n",
      "30\n",
      "40\n",
      "5\n",
      "apples\n",
      "bananas\n",
      "mango\n",
      "kiwi\n"
     ]
    }
   ],
   "source": [
    "dict1={\"apples\":20,\"bananas\":30,\"mango\":40,\"kiwi\":5}\n",
    "dict1\n",
    "for i,j in dict1.items():\n",
    "    print(dict1[i])\n",
    "for i,j in enumerate(dict1):\n",
    "    print(j)\n",
    "\n",
    "\n"
   ]
  },
  {
   "cell_type": "code",
   "execution_count": null,
   "metadata": {},
   "outputs": [],
   "source": []
  }
 ],
 "metadata": {
  "kernelspec": {
   "display_name": "Python 3",
   "language": "python",
   "name": "python3"
  },
  "language_info": {
   "codemirror_mode": {
    "name": "ipython",
    "version": 3
   },
   "file_extension": ".py",
   "mimetype": "text/x-python",
   "name": "python",
   "nbconvert_exporter": "python",
   "pygments_lexer": "ipython3",
   "version": "3.8.5"
  }
 },
 "nbformat": 4,
 "nbformat_minor": 4
}
