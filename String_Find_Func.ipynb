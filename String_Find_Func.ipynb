{
 "cells": [
  {
   "cell_type": "code",
   "execution_count": 101,
   "metadata": {},
   "outputs": [
    {
     "name": "stdout",
     "output_type": "stream",
     "text": [
      "Enter the String:rekha\n",
      "Enter the string to find:kiran\n",
      "String Not found\n"
     ]
    },
    {
     "data": {
      "text/plain": [
       "-1"
      ]
     },
     "execution_count": 101,
     "metadata": {},
     "output_type": "execute_result"
    }
   ],
   "source": [
    "def findStringFunc(strName=input(\"Enter the String:\"),strFind=input(\"Enter the string to find:\")):\n",
    "    if(strName.find(strFind)==-1):\n",
    "      print(\"String Not found\")\n",
    "      return -1\n",
    "    else:\n",
    "      print(\"String Found\")\n",
    "      return 1\n",
    "\n",
    "findStringFunc()\n"
   ]
  },
  {
   "cell_type": "code",
   "execution_count": 102,
   "metadata": {},
   "outputs": [
    {
     "name": "stdout",
     "output_type": "stream",
     "text": [
      "raeY weN yppaH\n"
     ]
    }
   ],
   "source": [
    "x=\"Happy New Year\"\n",
    "print(x[: : -1])\n"
   ]
  },
  {
   "cell_type": "code",
   "execution_count": 98,
   "metadata": {},
   "outputs": [
    {
     "name": "stdout",
     "output_type": "stream",
     "text": [
      "My name is John, I am age\n"
     ]
    }
   ],
   "source": [
    "age = 36\n",
    "print(\"My name is John, I am \" + \"age\")\n"
   ]
  },
  {
   "cell_type": "code",
   "execution_count": null,
   "metadata": {},
   "outputs": [],
   "source": []
  }
 ],
 "metadata": {
  "kernelspec": {
   "display_name": "Python 3",
   "language": "python",
   "name": "python3"
  },
  "language_info": {
   "codemirror_mode": {
    "name": "ipython",
    "version": 3
   },
   "file_extension": ".py",
   "mimetype": "text/x-python",
   "name": "python",
   "nbconvert_exporter": "python",
   "pygments_lexer": "ipython3",
   "version": "3.8.5"
  }
 },
 "nbformat": 4,
 "nbformat_minor": 4
}
