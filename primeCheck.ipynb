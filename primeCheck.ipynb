{
 "cells": [
  {
   "cell_type": "code",
   "execution_count": null,
   "metadata": {},
   "outputs": [],
   "source": [
    "def isPrime(numList):\n",
    " for i in range(len(numList)):\n",
    "    if(numList[i]<=3):\n",
    "     print(\"This number {} is Prime\".format(numList[i]))\n",
    "     return True\n",
    "    i=i+1\n",
    "    if (numList[i]%2==0 or numList[i]%3==0 ):\n",
    "     print(\"This number {} is Not Prime\".format(numList[i]))\n",
    "     return 0\n",
    "    i=i+1\n",
    "    \n",
    "   #else:\n",
    "     #print({numList[i]}, \"Prime Number\",format(numList[i]))\n",
    "    # return 1 \n",
    "    \n",
    "numList1=[3,20,30,34,54,56,77,43]\n",
    "isPrime(numList1)\n"
   ]
  },
  {
   "cell_type": "code",
   "execution_count": null,
   "metadata": {},
   "outputs": [],
   "source": [
    "numList1=[10,20,30,34,54,56,77,43]\n",
    "for i in numList1:\n",
    " print(\"Hello\")\n",
    "numList1.insert(5,34)\n",
    "numList1"
   ]
  },
  {
   "cell_type": "code",
   "execution_count": null,
   "metadata": {},
   "outputs": [],
   "source": [
    "num = 13\n",
    "if num > 1:\n",
    "    for i in range(2, num//2):\n",
    "     if (num % i) == 0:\n",
    "      print(num, \"is not a prime number\")\n",
    "      break\n",
    "     else:\n",
    "      print(num, \"is a prime number\")\n",
    "    else:\n",
    "      print(num, \"is not a prime number\")"
   ]
  },
  {
   "cell_type": "code",
   "execution_count": null,
   "metadata": {},
   "outputs": [],
   "source": [
    "def isPrime(n):\n",
    "  if(n<=1):\n",
    "   return False\n",
    "  elif(n<=3):\n",
    "    return True\n",
    "  elif(n % 2==0 or n % 3==0):\n",
    "    return False\n",
    "  else:\n",
    "    i=5\n",
    "    while(i*i<=n):\n",
    "      if(n%i==0 or n%(i+2)==0):\n",
    "        return False\n",
    "      else: \n",
    "        i=i+6\n",
    "        return True\n",
    "\n",
    "isPrime(2)"
   ]
  },
  {
   "cell_type": "code",
   "execution_count": 227,
   "metadata": {},
   "outputs": [
    {
     "name": "stdout",
     "output_type": "stream",
     "text": [
      "100263 is Not a Prime number\n"
     ]
    },
    {
     "data": {
      "text/plain": [
       "0"
      ]
     },
     "execution_count": 227,
     "metadata": {},
     "output_type": "execute_result"
    }
   ],
   "source": [
    "def prime_check(num):\n",
    "  if(num<1):\n",
    "        print(\"{} Not a Prime Number\".format(num))\n",
    "        return 0\n",
    "  elif(num<=3):\n",
    "            print(\"{} is a Prime Number\".format(num))\n",
    "            return 1\n",
    "  elif(num%2==0 or num%3==0):\n",
    "            print(\"{} is Not a Prime number\".format(num))\n",
    "            return 0\n",
    "  else:\n",
    "            i=5\n",
    "            while(i*i<=num):\n",
    "                    if(num%i==0 or num%i+2==0):\n",
    "                     print(\"{} is not a Prime Number\".format(num))\n",
    "                     break\n",
    "                    else:\n",
    "                     i=i+6\n",
    "                     print(\"{} is a Prime Number.format(num)\")\n",
    "   \n",
    "                    \n",
    "prime_check(100263)                    \n",
    "                    "
   ]
  },
  {
   "cell_type": "code",
   "execution_count": 233,
   "metadata": {},
   "outputs": [
    {
     "name": "stdout",
     "output_type": "stream",
     "text": [
      "2 is a Prime Number\n"
     ]
    }
   ],
   "source": [
    "def prime_check(numList):\n",
    " for i in range(0,len(numList)):\n",
    "  if(numList[i]<1):\n",
    "        print(\"{} Not a Prime Number\".format(numList[i]))\n",
    "        break\n",
    "  elif(numList[i]<=3):\n",
    "            print(\"{} is a Prime Number\".format(numList[i]))\n",
    "            break\n",
    "  elif(numList[i]%2==0 or numList[i]%3==0):\n",
    "            print(\"{} is Not a Prime number\".format(numList[i]))\n",
    "            break\n",
    "  else:\n",
    "            x=5\n",
    "            while(x*x<=numList[i]):\n",
    "                    if(numList[i]%x==0 or numList[i]%x+2==0):\n",
    "                     print(\"{} is not a Prime Number\".format(numList[i]))\n",
    "                     break\n",
    "                    else:\n",
    "                     x=x+6\n",
    "                     print(\"{} is a Prime Number\".format(numList[i]))\n",
    "   \n",
    "numList1=[2,24,25,9]                   \n",
    "prime_check(numList1)           "
   ]
  },
  {
   "cell_type": "code",
   "execution_count": null,
   "metadata": {},
   "outputs": [],
   "source": []
  },
  {
   "cell_type": "code",
   "execution_count": null,
   "metadata": {},
   "outputs": [],
   "source": []
  },
  {
   "cell_type": "code",
   "execution_count": null,
   "metadata": {},
   "outputs": [],
   "source": []
  }
 ],
 "metadata": {
  "kernelspec": {
   "display_name": "Python 3",
   "language": "python",
   "name": "python3"
  },
  "language_info": {
   "codemirror_mode": {
    "name": "ipython",
    "version": 3
   },
   "file_extension": ".py",
   "mimetype": "text/x-python",
   "name": "python",
   "nbconvert_exporter": "python",
   "pygments_lexer": "ipython3",
   "version": "3.8.5"
  }
 },
 "nbformat": 4,
 "nbformat_minor": 4
}
