{
 "cells": [
  {
   "cell_type": "code",
   "execution_count": 56,
   "metadata": {},
   "outputs": [
    {
     "data": {
      "text/plain": [
       "[1, 2, 3, 4, 5, 6, 7, 8, 9, 10, 11, 12]"
      ]
     },
     "execution_count": 56,
     "metadata": {},
     "output_type": "execute_result"
    }
   ],
   "source": [
    "list1=[1,2,3,4,5,6]\n",
    "list2=[7,8,9,10,11,12]\n",
    "list3=list1+list2\n",
    "list3"
   ]
  },
  {
   "cell_type": "code",
   "execution_count": 70,
   "metadata": {},
   "outputs": [
    {
     "name": "stdout",
     "output_type": "stream",
     "text": [
      "[('hello', 1), ('hi', 2), ('hello', 3)]\n",
      "('hello', 'hi', 'hello')\n"
     ]
    }
   ],
   "source": [
    "tuple1=(\"hello\",\"hi\",\"hello\")\n",
    "tuple3=zip(tuple1,list1)\n",
    "print(list(tuple3))\n",
    "print(tuple1)"
   ]
  },
  {
   "cell_type": "code",
   "execution_count": null,
   "metadata": {},
   "outputs": [],
   "source": [
    "list4=[12,23,34,45,(23,45)]\n",
    "list4[4]"
   ]
  },
  {
   "cell_type": "code",
   "execution_count": null,
   "metadata": {},
   "outputs": [],
   "source": [
    "list4[4][1]"
   ]
  },
  {
   "cell_type": "code",
   "execution_count": null,
   "metadata": {},
   "outputs": [],
   "source": [
    "tuple4=(12,34,45,675,[\"Hello\",\"Hi\"])\n",
    "tuple4[4][1]=\"how are you\"\n",
    "tuple4"
   ]
  },
  {
   "cell_type": "code",
   "execution_count": null,
   "metadata": {},
   "outputs": [],
   "source": [
    "tuple4[4].append(\"hi\")\n",
    "tuple4"
   ]
  },
  {
   "cell_type": "code",
   "execution_count": null,
   "metadata": {},
   "outputs": [],
   "source": [
    "tuple4[4].extend([\"baby\",\"boss\"])\n",
    "tuple4"
   ]
  },
  {
   "cell_type": "code",
   "execution_count": null,
   "metadata": {},
   "outputs": [],
   "source": [
    "tuple4[4][: : -1]"
   ]
  },
  {
   "cell_type": "code",
   "execution_count": null,
   "metadata": {},
   "outputs": [],
   "source": [
    "tuple4[4][-4:-2:1]"
   ]
  },
  {
   "cell_type": "code",
   "execution_count": null,
   "metadata": {},
   "outputs": [],
   "source": [
    "tuple4[4][5::]=[\"pranav\",\"ritvik\"]\n",
    "tuple4"
   ]
  },
  {
   "cell_type": "code",
   "execution_count": null,
   "metadata": {},
   "outputs": [],
   "source": [
    "tuple4+=(34,45)\n",
    "tuple4"
   ]
  },
  {
   "cell_type": "code",
   "execution_count": 99,
   "metadata": {},
   "outputs": [
    {
     "name": "stdout",
     "output_type": "stream",
     "text": [
      "{('hi', 'babes'), ('hello', 'baby')}\n",
      "{'hi', 'babes', 'baby', 'hello'}\n",
      "{'hi', 'babes', 'baby', 'hello'}\n",
      "{'hi', 'babes', 'baby'}\n",
      "{'bab', 'babes', 'baby'}\n"
     ]
    }
   ],
   "source": [
    "set1={\"hello\",\"hi\"}\n",
    "set2={\"baby\",\"babes\"}\n",
    "result=zip(set1,set2)\n",
    "set3=set(result)\n",
    "print(set3)\n",
    "set4=set1.union(set2)\n",
    "print(set4)\n",
    "set1.update(set2)\n",
    "print(set1)\n",
    "set1.remove(\"hello\")\n",
    "set2.discard(\"bab\")\n",
    "set2.add(\"bab\")\n",
    "print(set1)\n",
    "print(set2)"
   ]
  },
  {
   "cell_type": "code",
   "execution_count": 109,
   "metadata": {},
   "outputs": [
    {
     "name": "stdout",
     "output_type": "stream",
     "text": [
      "{1, 2, 3, 4, 5, 6, 7, 8, 9, 10, 11}\n",
      "{6, 7, 8, 9, 10, 11}\n",
      " the value is 1\n",
      "the value is {6, 7, 8, 9, 10, 11, 'one'}\n",
      " the value is 2\n",
      "the value is {6, 7, 8, 9, 10, 11, 'one', 'two'}\n",
      " the value is 3\n",
      "the value is {6, 7, 8, 9, 10, 11, 'three', 'one', 'two'}\n",
      " the value is 4\n",
      "the value is {6, 7, 8, 9, 10, 11, 'three', 'one', 'two', 'four and go on'}\n",
      " the value is 5\n",
      "the value is {6, 7, 8, 9, 10, 11, 'three', 'one', 'two', 'four and go on'}\n",
      " the value is 6\n",
      "the value is {6, 7, 8, 9, 10, 11, 'three', 'one', 'two', 'four and go on'}\n",
      " the value is 7\n",
      "the value is {6, 7, 8, 9, 10, 11, 'three', 'one', 'two', 'four and go on'}\n",
      " the value is 8\n",
      "the value is {6, 7, 8, 9, 10, 11, 'three', 'one', 'two', 'four and go on'}\n",
      " the value is 9\n",
      "the value is {6, 7, 8, 9, 10, 11, 'three', 'one', 'two', 'four and go on'}\n",
      " the value is 10\n",
      "the value is {6, 7, 8, 9, 10, 11, 'three', 'one', 'two', 'four and go on'}\n",
      " the value is 11\n",
      "the value is {6, 7, 8, 9, 10, 11, 'three', 'one', 'two', 'four and go on'}\n",
      "6\n",
      "{7, 8, 9, 10, 11, 'three', 'one', 'two', 'four and go on'}\n"
     ]
    }
   ],
   "source": [
    "set1={1,2,3,4,5}\n",
    "set2={6,7,8,9,10,11}\n",
    "set1.update(set2)\n",
    "print(set1)\n",
    "print(set2)\n",
    "for i in set1:\n",
    "    print(f\" the value is {i}\")  \n",
    "    if(i==1):\n",
    "        set2.add(\"one\")\n",
    "        print(f\"the value is {set2}\")\n",
    "    elif(i==2):\n",
    "        set2.add(\"two\")\n",
    "        print(f\"the value is {set2}\") \n",
    "    elif(i==3):\n",
    "        set2.add(\"three\")\n",
    "        print(f\"the value is {set2}\")\n",
    "    else:\n",
    "        set2.add(\"four and go on\")\n",
    "        print(f\"the value is {set2}\")\n",
    "x=set2.pop()\n",
    "print(x)\n",
    "print(set2)\n",
    "\n",
    "        "
   ]
  },
  {
   "cell_type": "code",
   "execution_count": 98,
   "metadata": {},
   "outputs": [
    {
     "name": "stdout",
     "output_type": "stream",
     "text": [
      "the value of inner list is['Hello', 'how are you', 'hi', 'baby', 'boss', 'pranav', 'ritvik', 34, 45]\n",
      "the values of 0 index position in inner tuple is pranav\n",
      "just trying not to mistake while printing baby\n",
      "last time trying not to make any mistake boss\n"
     ]
    }
   ],
   "source": [
    "print(f\"the value of inner list is{tuple4[4]}\")\n",
    "print(f\"the values of 0 index position in inner tuple is {tuple4[4][5]}\")\n",
    "print(f\"just trying not to mistake while printing {tuple4[4][3]}\")\n",
    "print(f\"last time trying not to make any mistake {tuple4[4][4]}\")"
   ]
  },
  {
   "cell_type": "code",
   "execution_count": 40,
   "metadata": {},
   "outputs": [
    {
     "name": "stdout",
     "output_type": "stream",
     "text": [
      "0 hello\n",
      "1 hi\n"
     ]
    }
   ],
   "source": [
    "for i in range(len(tuple1)):\n",
    " print(i,tuple1[i])"
   ]
  },
  {
   "cell_type": "code",
   "execution_count": 57,
   "metadata": {},
   "outputs": [
    {
     "name": "stdout",
     "output_type": "stream",
     "text": [
      "7\n",
      "8\n",
      "9\n",
      "10\n",
      "11\n",
      "12\n"
     ]
    }
   ],
   "source": [
    "for i in range(len(list2)):\n",
    " print(list2[i])"
   ]
  },
  {
   "cell_type": "code",
   "execution_count": 48,
   "metadata": {},
   "outputs": [
    {
     "name": "stdout",
     "output_type": "stream",
     "text": [
      "(0, 1)\n",
      "(1, 2)\n",
      "(2, 3)\n",
      "(3, 4)\n",
      "(4, 5)\n",
      "(5, 6)\n"
     ]
    }
   ],
   "source": [
    "for i in enumerate(list1):\n",
    "    print(i)"
   ]
  },
  {
   "cell_type": "code",
   "execution_count": 52,
   "metadata": {},
   "outputs": [
    {
     "name": "stdout",
     "output_type": "stream",
     "text": [
      "(0, 'hi')\n",
      "(1, 'hello')\n"
     ]
    }
   ],
   "source": [
    "for i in enumerate(set1):\n",
    "    print(i)\n",
    " "
   ]
  },
  {
   "cell_type": "code",
   "execution_count": 61,
   "metadata": {},
   "outputs": [
    {
     "name": "stdout",
     "output_type": "stream",
     "text": [
      "((1, 7), (2, 8), (3, 9), (4, 10), (5, 11), (6, 12))\n"
     ]
    }
   ],
   "source": [
    "result=zip(list1,list2)\n",
    "print(tuple(result))"
   ]
  },
  {
   "cell_type": "code",
   "execution_count": 69,
   "metadata": {},
   "outputs": [
    {
     "name": "stdout",
     "output_type": "stream",
     "text": [
      "the value of i is 1\n",
      "the value of i is 2\n",
      "the value of i is 3\n",
      "the value of i is 4\n",
      "the value checked for 5\n"
     ]
    }
   ],
   "source": [
    "i=1\n",
    "while(i<=6):\n",
    "    print(f\"the value of i is {i}\")\n",
    "    i+=1\n",
    "    if(i==5):\n",
    "        print(f\"the value checked for {i}\")\n",
    "        break\n",
    "    else: \n",
    "        continue\n",
    "  \n"
   ]
  },
  {
   "cell_type": "code",
   "execution_count": 100,
   "metadata": {},
   "outputs": [
    {
     "name": "stdout",
     "output_type": "stream",
     "text": [
      "{4, 5, 6, 7}\n"
     ]
    }
   ],
   "source": [
    "set1={4,5,7}\n",
    "set1.add(6)\n",
    "print(set1)"
   ]
  },
  {
   "cell_type": "code",
   "execution_count": null,
   "metadata": {},
   "outputs": [],
   "source": []
  }
 ],
 "metadata": {
  "kernelspec": {
   "display_name": "Python 3",
   "language": "python",
   "name": "python3"
  },
  "language_info": {
   "codemirror_mode": {
    "name": "ipython",
    "version": 3
   },
   "file_extension": ".py",
   "mimetype": "text/x-python",
   "name": "python",
   "nbconvert_exporter": "python",
   "pygments_lexer": "ipython3",
   "version": "3.8.5"
  }
 },
 "nbformat": 4,
 "nbformat_minor": 4
}
