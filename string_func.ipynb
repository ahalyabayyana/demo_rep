{
 "cells": [
  {
   "cell_type": "code",
   "execution_count": 274,
   "metadata": {},
   "outputs": [
    {
     "name": "stdout",
     "output_type": "stream",
     "text": [
      "(40, 'H')\n",
      "(41, 'e')\n",
      "(42, 'l')\n",
      "(43, 'l')\n",
      "(44, 'o')\n"
     ]
    }
   ],
   "source": [
    "str1=\"Hello\"\n",
    "for i in enumerate(str1,40):\n",
    "    print(i)"
   ]
  },
  {
   "cell_type": "code",
   "execution_count": 6,
   "metadata": {},
   "outputs": [
    {
     "name": "stdout",
     "output_type": "stream",
     "text": [
      "  H  e  l  l  o\n"
     ]
    }
   ],
   "source": [
    "str1=\"Hello\"\n",
    "str2=\"\"\n",
    "for i in str1:\n",
    "    str2=str2+\"  \"+i\n",
    "print(str2)"
   ]
  },
  {
   "cell_type": "code",
   "execution_count": 20,
   "metadata": {},
   "outputs": [
    {
     "name": "stdout",
     "output_type": "stream",
     "text": [
      "This is 9 index and this is first item in nested list hello and this is second hi\n",
      "This is 10 index and this is first item in nested list i and this is second am\n",
      "This is 11 index and this is first item in nested list here and this is second hear\n"
     ]
    }
   ],
   "source": [
    "l1=[[\"hello\",\"hi\"],[\"i\",\"am\"],[\"here\",\"hear\"]]\n",
    "for i,j in enumerate(l1,9):\n",
    "    print(f\"This is {i} index and this is first item in nested list {j[0]} and this is second {j[1]}\")\n",
    "    "
   ]
  },
  {
   "cell_type": "code",
   "execution_count": 26,
   "metadata": {},
   "outputs": [
    {
     "name": "stdout",
     "output_type": "stream",
     "text": [
      "<class 'enumerate'>\n",
      "[(0, 'Mon'), (1, 'Tue'), (2, 'Wed'), (3, 'Thu')]\n",
      "[(5, 'Mon'), (6, 'Tue'), (7, 'Wed'), (8, 'Thu')]\n"
     ]
    }
   ],
   "source": [
    "days= { 'Mon', 'Tue', 'Wed','Thu'}\n",
    "enum_days = enumerate(days)\n",
    "print(type(enum_days))\n",
    "print(list(enum_days))\n",
    "enum_days=enumerate(days,5)\n",
    "print(list(enum_days))"
   ]
  },
  {
   "cell_type": "code",
   "execution_count": 29,
   "metadata": {},
   "outputs": [
    {
     "name": "stdout",
     "output_type": "stream",
     "text": [
      "{7: 'hello', 8: 'hi', 9: 'we', 10: 'are', 11: 'doing', 12: 'good'}\n"
     ]
    }
   ],
   "source": [
    "l1=[\"hello\",\"hi\",\"we\",\"are\",\"doing\",\"good\"]\n",
    "enum_l1=enumerate(l1,7)\n",
    "d=dict((i,j) for i,j in enum_l1)\n",
    "print(d)"
   ]
  },
  {
   "cell_type": "code",
   "execution_count": 41,
   "metadata": {},
   "outputs": [
    {
     "name": "stdout",
     "output_type": "stream",
     "text": [
      "<class 'set'>\n"
     ]
    }
   ],
   "source": [
    "def listtodict(list1,d1):\n",
    "    d1=dict(list1)\n",
    "\n",
    "list1=[(\"set\",1),(\"set2\",2),(\"set3\",3)]\n",
    "d1={}    \n",
    "\n",
    "print(eval(list1[0][0]))\n"
   ]
  },
  {
   "cell_type": "code",
   "execution_count": 42,
   "metadata": {},
   "outputs": [
    {
     "name": "stdout",
     "output_type": "stream",
     "text": [
      "[('one', 1), ('Two', 2), ('Three', 3)]\n"
     ]
    }
   ],
   "source": [
    "#converting a dictinory to list of tuples\n",
    "dict1={\"one\":1,\"Two\":2,\"Three\":3}\n",
    "list1=[(i,j) for i,j in dict1.items()]\n",
    "print(list1)"
   ]
  },
  {
   "cell_type": "code",
   "execution_count": 43,
   "metadata": {},
   "outputs": [
    {
     "name": "stdout",
     "output_type": "stream",
     "text": [
      "{'one': 1, 'Two': 2, 'Three': 3}\n"
     ]
    }
   ],
   "source": [
    "#converting a list of tuples to a dictionary\n",
    "list1=[('one', 1), ('Two', 2), ('Three', 3)]\n",
    "dict1=dict(list1)\n",
    "print(dict1)"
   ]
  },
  {
   "cell_type": "code",
   "execution_count": 51,
   "metadata": {},
   "outputs": [
    {
     "name": "stdout",
     "output_type": "stream",
     "text": [
      "['one1', 'Two2', 'Three3']\n"
     ]
    }
   ],
   "source": [
    "#converting a list of tuples to a list of string in python\n",
    "list1=[('one', \"1\"), ('Two', \"2\"), ('Three', \"3\")]\n",
    "str_list=[''.join(i) for i in list1]\n",
    "print(str_list)"
   ]
  },
  {
   "cell_type": "code",
   "execution_count": 52,
   "metadata": {},
   "outputs": [
    {
     "name": "stdout",
     "output_type": "stream",
     "text": [
      "['hello', 'one,', 'two', 'four', 'five']\n"
     ]
    }
   ],
   "source": [
    "#convert list of strings to list of lists\n",
    "list1=[\"hello\",\"one,\",\"two\",\"four\",\"five\"]\n",
    "list2=list(list1[])\n",
    "print(list2)"
   ]
  },
  {
   "cell_type": "code",
   "execution_count": 56,
   "metadata": {},
   "outputs": [
    {
     "name": "stdout",
     "output_type": "stream",
     "text": [
      "Hello\n"
     ]
    }
   ],
   "source": [
    "str1=\"hello\"\n",
    "print(str1.capitalize())"
   ]
  },
  {
   "cell_type": "code",
   "execution_count": 5,
   "metadata": {},
   "outputs": [
    {
     "name": "stdout",
     "output_type": "stream",
     "text": [
      "hello\n",
      "       Hello        \n",
      "2\n",
      "b'Hello'\n"
     ]
    }
   ],
   "source": [
    "str1=\"Hello\"\n",
    "print(str1.casefold())\n",
    "print(str1.center(20))\n",
    "print(str1.count(\"l\",0,4))\n",
    "print(str1.encode())"
   ]
  },
  {
   "cell_type": "code",
   "execution_count": 9,
   "metadata": {},
   "outputs": [
    {
     "name": "stdout",
     "output_type": "stream",
     "text": [
      "False\n"
     ]
    }
   ],
   "source": [
    "str1=\"Welcome\"\n",
    "print(str1.endswith(\"e\",0,6))"
   ]
  },
  {
   "cell_type": "code",
   "execution_count": 81,
   "metadata": {},
   "outputs": [
    {
     "name": "stdout",
     "output_type": "stream",
     "text": [
      "H\te\te\tl\to\n",
      "H  e  e  l  o\n"
     ]
    }
   ],
   "source": [
    "str1=\"H\\te\\te\\tl\\to\"\n",
    "print(str1)\n",
    "print(str1.expandtabs(3))"
   ]
  },
  {
   "cell_type": "code",
   "execution_count": 87,
   "metadata": {},
   "outputs": [
    {
     "name": "stdout",
     "output_type": "stream",
     "text": [
      "7\n"
     ]
    }
   ],
   "source": [
    "str1=\"Hello how are you?\"\n",
    "print(str1.find(\"o\",5,9))"
   ]
  },
  {
   "cell_type": "code",
   "execution_count": 92,
   "metadata": {},
   "outputs": [
    {
     "data": {
      "text/plain": [
       "-1"
      ]
     },
     "execution_count": 92,
     "metadata": {},
     "output_type": "execute_result"
    }
   ],
   "source": [
    "str1=\"hello\"\n",
    "str1.index(\"e\") #index will throw a error if the index is out of range\n",
    "str1.find(\"u\") #find will not throw a error if the position is not found"
   ]
  },
  {
   "cell_type": "code",
   "execution_count": 101,
   "metadata": {},
   "outputs": [
    {
     "name": "stdout",
     "output_type": "stream",
     "text": [
      "True\n",
      "False\n",
      "False\n"
     ]
    }
   ],
   "source": [
    "str1=\"welcome123\"\n",
    "i=\"welcome?\"\n",
    "print(str1.isalnum())\n",
    "print(i.isalnum()) #isalphanum finds if all the characters are alphabets and numbers but no special characters\n",
    "print(str1.isalpha()) #isalpha finds if all the characters are alphabets"
   ]
  },
  {
   "cell_type": "code",
   "execution_count": 113,
   "metadata": {},
   "outputs": [
    {
     "name": "stdout",
     "output_type": "stream",
     "text": [
      "False\n",
      "False\n"
     ]
    }
   ],
   "source": [
    "str1=\"1234500\"\n",
    "print(str1.isdecimal()) # returns true if all the elements are decimals i.e. integers\n",
    "print(str1.isdigit())"
   ]
  },
  {
   "cell_type": "markdown",
   "metadata": {},
   "source": [
    "isdecimal()\tisdigit()\tisnumeric()\n",
    "Example of string with decimal characters:\n",
    "\"12345\"\n",
    "\"12\"\n",
    "\"98201\"\tExample of string with digits:\n",
    "\"12345\"\n",
    "\"1233\"\n",
    "\"3\"\tExample of string with numerics:\n",
    "\"12345\"\n",
    "\"½¼\"\n",
    "\"½\"\n",
    "\"12345½\""
   ]
  },
  {
   "cell_type": "code",
   "execution_count": 13,
   "metadata": {},
   "outputs": [
    {
     "name": "stdout",
     "output_type": "stream",
     "text": [
      "False\n",
      "False\n"
     ]
    }
   ],
   "source": [
    "str1=\"I am identifier\"\n",
    "str2=\"_hello\"\n",
    "print(str1.isidentifier())#false because an identifier can have number and alphabets and _ only\n",
    "print(str2.isidentifier())# true because an identifier i.e string can start with a underscore"
   ]
  },
  {
   "cell_type": "code",
   "execution_count": 116,
   "metadata": {},
   "outputs": [
    {
     "data": {
      "text/plain": [
       "False"
      ]
     },
     "execution_count": 116,
     "metadata": {},
     "output_type": "execute_result"
    }
   ],
   "source": [
    "str1.islower()"
   ]
  },
  {
   "cell_type": "code",
   "execution_count": 121,
   "metadata": {},
   "outputs": [
    {
     "name": "stdout",
     "output_type": "stream",
     "text": [
      "True\n",
      "True\n",
      "False\n",
      "False\n",
      "False\n"
     ]
    }
   ],
   "source": [
    "a = \"\\u0030\" #unicode for 0\n",
    "b = \"\\u00B2\" #unicode for ²\n",
    "c = \"10km2\"\n",
    "d = \"-1\"\n",
    "e = \"1.5\"\n",
    "print(a.isnumeric())\n",
    "print(b.isnumeric())\n",
    "print(c.isnumeric())\n",
    "print(d.isnumeric())\n",
    "print(e.isnumeric())"
   ]
  },
  {
   "cell_type": "code",
   "execution_count": 124,
   "metadata": {},
   "outputs": [
    {
     "name": "stdout",
     "output_type": "stream",
     "text": [
      "True\n",
      "True\n",
      "False\n"
     ]
    }
   ],
   "source": [
    "txt = \"Hello!\\nAre you #1?\"\n",
    "print(a.isprintable())\n",
    "print(d.isprintable())\n",
    "print(txt.isprintable())"
   ]
  },
  {
   "cell_type": "code",
   "execution_count": 130,
   "metadata": {},
   "outputs": [
    {
     "name": "stdout",
     "output_type": "stream",
     "text": [
      "True\n"
     ]
    }
   ],
   "source": [
    "str1=\"  \"\n",
    "print(str1.isspace())"
   ]
  },
  {
   "cell_type": "code",
   "execution_count": 138,
   "metadata": {},
   "outputs": [
    {
     "data": {
      "text/plain": [
       "True"
      ]
     },
     "execution_count": 138,
     "metadata": {},
     "output_type": "execute_result"
    }
   ],
   "source": [
    "str1=\"Welcome Is This Title??\"\n",
    "str1.istitle()# returns True if all words in a text start with a upper case letter, \n",
    "              #AND the rest of the word are lower case letters, otherwise False."
   ]
  },
  {
   "cell_type": "code",
   "execution_count": 139,
   "metadata": {},
   "outputs": [
    {
     "data": {
      "text/plain": [
       "False"
      ]
     },
     "execution_count": 139,
     "metadata": {},
     "output_type": "execute_result"
    }
   ],
   "source": [
    "str1.isupper()"
   ]
  },
  {
   "cell_type": "code",
   "execution_count": 140,
   "metadata": {},
   "outputs": [
    {
     "data": {
      "text/plain": [
       "'YWelcome Is This Title??eWelcome Is This Title??sWelcome Is This Title?? Welcome Is This Title??iWelcome Is This Title??tWelcome Is This Title?? Welcome Is This Title??iWelcome Is This Title??s'"
      ]
     },
     "execution_count": 140,
     "metadata": {},
     "output_type": "execute_result"
    }
   ],
   "source": [
    "str2=\"Yes it is\"\n",
    "str3=str1.join(str2)\n",
    "str3"
   ]
  },
  {
   "cell_type": "code",
   "execution_count": 14,
   "metadata": {},
   "outputs": [
    {
     "data": {
      "text/plain": [
       "'hello how are you pranav'"
      ]
     },
     "execution_count": 14,
     "metadata": {},
     "output_type": "execute_result"
    }
   ],
   "source": [
    "l1=[\"hello\",\"how\",\"are\",\"you\",\"pranav\"]\n",
    "l2=\" \".join(l1)\n",
    "l2"
   ]
  },
  {
   "cell_type": "code",
   "execution_count": 144,
   "metadata": {},
   "outputs": [
    {
     "data": {
      "text/plain": [
       "'hello'"
      ]
     },
     "execution_count": 144,
     "metadata": {},
     "output_type": "execute_result"
    }
   ],
   "source": [
    "t1=(\"h\",\"e\",\"l\",\"l\",\"o\")\n",
    "t2=\"\".join(t1)\n",
    "t2"
   ]
  },
  {
   "cell_type": "code",
   "execution_count": 257,
   "metadata": {},
   "outputs": [
    {
     "name": "stdout",
     "output_type": "stream",
     "text": [
      "Hello                                                                                                how are you?\n",
      "Hello                         \n"
     ]
    }
   ],
   "source": [
    "str1=\"Hello\"\n",
    "str2=\"how are you?\"\n",
    "print(str1.ljust(100),str2)\n",
    "print(str1.ljust(30))"
   ]
  },
  {
   "cell_type": "code",
   "execution_count": 263,
   "metadata": {},
   "outputs": [
    {
     "name": "stdout",
     "output_type": "stream",
     "text": [
      "hello, and welcome to my world!\n",
      "hello, and welcome to my world!\n",
      "Hello, And Welcome To My World!\n"
     ]
    }
   ],
   "source": [
    "str1=\"Hello, And Welcome To My World!\"\n",
    "print(str1.lower())\n",
    "print(str1.casefold())\n",
    "\n",
    "\n",
    "#both will do the job of converting a string to lower where as case fold \n",
    "#Casefolding is a more aggressive version of lower() that is set up to make many of the more unique unicode \n",
    "#characters more comparable. It is another form of normalizing text that \n",
    "#may initially appear to be very different, but it takes characters of many different languages into account."
   ]
  },
  {
   "cell_type": "code",
   "execution_count": 16,
   "metadata": {},
   "outputs": [
    {
     "name": "stdout",
     "output_type": "stream",
     "text": [
      "hello      \n",
      "         hello\n",
      "hello\n"
     ]
    }
   ],
   "source": [
    "str1=\"         hello      \"\n",
    "print(str1.lstrip())\n",
    "print(str1.rstrip())\n",
    "print(str1.strip())"
   ]
  },
  {
   "cell_type": "code",
   "execution_count": 174,
   "metadata": {},
   "outputs": [
    {
     "name": "stdout",
     "output_type": "stream",
     "text": [
      "2ell\n"
     ]
    }
   ],
   "source": [
    "str1=\"hello\"\n",
    "x=\"ho\"\n",
    "y=\"23\"\n",
    "z=\"o\"\n",
    "str2=str1.maketrans(x,y,z) ,#x the strings needs to be removed , y is with which it will replcae the characters the length \n",
    "#of x and y should be equal and z is the string or character which needs to be removes from original string\n",
    "print(str1.translate(str2))\n",
    "#maketrans --- returns a dictionary object\n",
    "#translate()"
   ]
  },
  {
   "cell_type": "code",
   "execution_count": 212,
   "metadata": {},
   "outputs": [
    {
     "name": "stdout",
     "output_type": "stream",
     "text": [
      "('Hello how are you', '', '')\n",
      "('', '', 'Hello how are you')\n"
     ]
    }
   ],
   "source": [
    "str1=\"Hello how are you\"\n",
    "print(str1.partition(\"?\"))\n",
    "print(str1.rpartition(\"?\"))#returns tuple and returns the tuple objects with the partition character,\n",
    "#string will part into 3 parts"
   ]
  },
  {
   "cell_type": "code",
   "execution_count": 192,
   "metadata": {},
   "outputs": [
    {
     "name": "stdout",
     "output_type": "stream",
     "text": [
      "hello who are you\n"
     ]
    }
   ],
   "source": [
    "str1=\"hello how are you\"\n",
    "print(str1.replace(\"how\",\"who\"))"
   ]
  },
  {
   "cell_type": "code",
   "execution_count": 200,
   "metadata": {},
   "outputs": [
    {
     "name": "stdout",
     "output_type": "stream",
     "text": [
      "4\n",
      "15\n"
     ]
    }
   ],
   "source": [
    "print(str1.find(\"o\"))\n",
    "#Searches the string for a specified value and returns the last position of where it was found\n",
    "print(str1.rfind(\"o\"))\n",
    "#Python rfind() returns the first occurrence of the string (from right to left), or -1 if there is no match.\n",
    "\n",
    "#Python find() returns the first occurrence of the string (from left to right), or -1 if there is no match."
   ]
  },
  {
   "cell_type": "code",
   "execution_count": 198,
   "metadata": {
    "scrolled": true
   },
   "outputs": [
    {
     "name": "stdout",
     "output_type": "stream",
     "text": [
      "                                           hello how are you\n"
     ]
    }
   ],
   "source": [
    "print(str1.rjust(60))"
   ]
  },
  {
   "cell_type": "code",
   "execution_count": 208,
   "metadata": {},
   "outputs": [
    {
     "name": "stdout",
     "output_type": "stream",
     "text": [
      "hello who are you who                                                                                                   \n",
      "                                                                                                   hello who are you who\n"
     ]
    }
   ],
   "source": [
    "str1=\"hello who are you who\"\n",
    "print(str1.ljust(120))\n",
    "print(str1.rjust(120))"
   ]
  },
  {
   "cell_type": "code",
   "execution_count": 210,
   "metadata": {},
   "outputs": [
    {
     "name": "stdout",
     "output_type": "stream",
     "text": [
      "18\n",
      "6\n"
     ]
    }
   ],
   "source": [
    "print(str1.rindex(\"who\")) #gives the last index position\n",
    "print(str1.index(\"who\"))  # gives the first index position"
   ]
  },
  {
   "cell_type": "code",
   "execution_count": 219,
   "metadata": {},
   "outputs": [
    {
     "name": "stdout",
     "output_type": "stream",
     "text": [
      "['Hello h', ' are you']\n"
     ]
    }
   ],
   "source": [
    "print(str1.rsplit(\"ow\"))"
   ]
  },
  {
   "cell_type": "code",
   "execution_count": 228,
   "metadata": {},
   "outputs": [
    {
     "name": "stdout",
     "output_type": "stream",
     "text": [
      "['w', 'e', 'l', 'c', 'o,m,e']\n",
      "['w,e,l,c', 'o', 'm', 'e']\n",
      "['w,e,l,c,o,m,e']\n"
     ]
    }
   ],
   "source": [
    "str1 = \"w,e,l,c,o,m,e\"\n",
    "print(str1.split(',',4))\n",
    "\n",
    "str1 = \"w,e,l,c,o,m,e\"\n",
    "print(str1.rsplit(',',3))\n",
    "\n",
    "\n",
    "\n",
    "#maxsplit\tOptional. Specifies how many splits to do. Default value is -1, which is \"all occurrences\"\n",
    "#You see, split() is used if you want to split strings on first occurrences and rsplit() \n",
    "#is used if you want to split strings on last occurrences."
   ]
  },
  {
   "cell_type": "code",
   "execution_count": 235,
   "metadata": {},
   "outputs": [
    {
     "name": "stdout",
     "output_type": "stream",
     "text": [
      "['hello', 'how are you?']\n"
     ]
    }
   ],
   "source": [
    "str1=\"hello\\nhow are you?\"\n",
    "print(str1.splitlines()) #The splitlines() method splits a string into a list. The splitting is done at line breaks."
   ]
  },
  {
   "cell_type": "code",
   "execution_count": 232,
   "metadata": {},
   "outputs": [
    {
     "data": {
      "text/plain": [
       "False"
      ]
     },
     "execution_count": 232,
     "metadata": {},
     "output_type": "execute_result"
    }
   ],
   "source": [
    "str1.startswith(\"w\")"
   ]
  },
  {
   "cell_type": "code",
   "execution_count": 256,
   "metadata": {},
   "outputs": [
    {
     "name": "stdout",
     "output_type": "stream",
     "text": [
      "wELCOME TO python\n",
      "Welcome To Python\n",
      "Welcome to python\n"
     ]
    }
   ],
   "source": [
    "str1=\"Welcome to PYTHON\"\n",
    "print(str1.swapcase())\n",
    "print(str1.title()) # converts the first letter of word to capital\n",
    "print(str1.capitalize())"
   ]
  },
  {
   "cell_type": "code",
   "execution_count": 247,
   "metadata": {},
   "outputs": [
    {
     "name": "stdout",
     "output_type": "stream",
     "text": [
      "Welcome to pYTHON\n"
     ]
    }
   ],
   "source": [
    "str2=str1.maketrans(\"P\",\"p\")\n",
    "print(str1.translate(str2))"
   ]
  },
  {
   "cell_type": "code",
   "execution_count": 248,
   "metadata": {},
   "outputs": [
    {
     "name": "stdout",
     "output_type": "stream",
     "text": [
      "WELCOME TO PYTHON\n"
     ]
    }
   ],
   "source": [
    "print(str1.upper())"
   ]
  },
  {
   "cell_type": "code",
   "execution_count": 255,
   "metadata": {},
   "outputs": [
    {
     "name": "stdout",
     "output_type": "stream",
     "text": [
      "00000000000000156700\n"
     ]
    }
   ],
   "source": [
    "i=\"156700\"\n",
    "print(i.zfill(20))"
   ]
  },
  {
   "cell_type": "code",
   "execution_count": 265,
   "metadata": {},
   "outputs": [
    {
     "name": "stdout",
     "output_type": "stream",
     "text": [
      "       banana       \n",
      "3\n"
     ]
    }
   ],
   "source": [
    "txt = \"banana\"\n",
    "\n",
    "x = txt.center(20)\n",
    "y=txt.count(\"a\")\n",
    "\n",
    "print(x)\n",
    "print(y)"
   ]
  },
  {
   "cell_type": "code",
   "execution_count": 267,
   "metadata": {},
   "outputs": [
    {
     "name": "stdout",
     "output_type": "stream",
     "text": [
      "H    e    l    l    o\n"
     ]
    }
   ],
   "source": [
    "txt = \"H\\te\\tl\\tl\\to\"\n",
    "\n",
    "x =  txt.expandtabs(5)\n",
    "\n",
    "print(x)"
   ]
  },
  {
   "cell_type": "code",
   "execution_count": 271,
   "metadata": {},
   "outputs": [
    {
     "name": "stdout",
     "output_type": "stream",
     "text": [
      "True\n",
      "False\n"
     ]
    }
   ],
   "source": [
    "x=\"welcome123\"\n",
    "print(x.isalnum())\n",
    "print(x.isalpha())"
   ]
  },
  {
   "cell_type": "code",
   "execution_count": 75,
   "metadata": {},
   "outputs": [
    {
     "name": "stdout",
     "output_type": "stream",
     "text": [
      "please enter the string:rekha\n",
      "r\n",
      "ee\n",
      "kkk\n",
      "hhhh\n",
      "aaaaa\n"
     ]
    }
   ],
   "source": [
    "str1=input(\"please enter the string:\")\n",
    "length=len(str1)\n",
    "for i in range(length):\n",
    "    for j in range(i+1) :\n",
    "            print(str1[j],end=\"\")   \n",
    "    print()     "
   ]
  },
  {
   "cell_type": "code",
   "execution_count": 88,
   "metadata": {},
   "outputs": [
    {
     "name": "stdout",
     "output_type": "stream",
     "text": [
      "please enter the string:rekha\n",
      "          \n",
      "         r\n",
      "        re\n",
      "       rek\n",
      "      rekh\n",
      "     rekha\n"
     ]
    }
   ],
   "source": [
    "str1=input(\"please enter the string:\")\n",
    "length=len(str1)\n",
    "for i in range(length+1):\n",
    "    print(str1[0:i].rjust(10))\n",
    "   \n",
    "     "
   ]
  },
  {
   "cell_type": "code",
   "execution_count": 90,
   "metadata": {},
   "outputs": [
    {
     "name": "stdout",
     "output_type": "stream",
     "text": [
      "please enter the string:rekha\n",
      "           \n",
      "     r     \n",
      "     re    \n",
      "    rek    \n",
      "    rekh   \n",
      "   rekha   \n"
     ]
    }
   ],
   "source": [
    "str1=input(\"please enter the string:\")\n",
    "length=len(str1)\n",
    "for i in range(length+1):\n",
    "    print(str1[0:i].center(11))"
   ]
  },
  {
   "cell_type": "code",
   "execution_count": 111,
   "metadata": {},
   "outputs": [
    {
     "name": "stdout",
     "output_type": "stream",
     "text": [
      "(('31', 'jan'), ('28', 'feb'), ('31', 'mar'), ('30', 'apr'), ('31', 'may'), ('30', 'jun'), ('31', 'july'), ('31', 'aug'), ('30', 'sep'), ('31', 'oct'), ('30', 'nov'), ('31', 'dec'))\n",
      "jan having 31 days\n",
      "feb having 28 days\n",
      "mar having 31 days\n",
      "apr is having 30 days\n",
      "may having 31 days\n",
      "jun is having 30 days\n",
      "july having 31 days\n",
      "aug having 31 days\n",
      "sep is having 30 days\n",
      "oct having 31 days\n",
      "nov is having 30 days\n",
      "dec having 31 days\n"
     ]
    }
   ],
   "source": [
    "days=[\"31\",\"28\",\"31\",\"30\",\"31\",\"30\",\"31\",\"31\",\"30\",\"31\",\"30\",\"31\"]\n",
    "months=[\"jan\",\"feb\",\"mar\",\"apr\",\"may\",\"jun\",\"july\",\"aug\",\"sep\",\"oct\",\"nov\",\"dec\"]\n",
    "new_tuple=tuple(zip(days,months))\n",
    "print(new_tuple)\n",
    "for i,j in new_tuple:\n",
    "    if(int(i)>=31):\n",
    "        print(f\"{j} having 31 days\")\n",
    "    elif(int(i)==28):\n",
    "        print(f\"{j} having 28 days\")\n",
    "    else:\n",
    "        print(f\"{j} is having 30 days\")\n",
    "   \n",
    "        \n",
    "            "
   ]
  },
  {
   "cell_type": "code",
   "execution_count": 107,
   "metadata": {},
   "outputs": [
    {
     "name": "stdout",
     "output_type": "stream",
     "text": [
      "Enter the string to find the number,digits and special characters in it\n",
      "dasdasdasdasdas34234!@$@#$@#%\n",
      "number of digits is 5\n",
      "number of characters is 15\n",
      "number of special is 9\n",
      "End of for loop\n"
     ]
    }
   ],
   "source": [
    "str1=input(\"Enter the string to find the number,digits and special characters in it\\n\")\n",
    "digit=0\n",
    "character=0\n",
    "special=0\n",
    "for i in str1:\n",
    "    if(i.isdigit()):\n",
    "        digit+=1\n",
    "    elif(i.isalpha()):\n",
    "        character+=1\n",
    "    elif(not(i.isalnum())):\n",
    "        special+=1\n",
    "\n",
    "print(f\"number of digits is {digit}\")\n",
    "print(f\"number of characters is {character}\")\n",
    "print(f\"number of special is {special}\")\n",
    "print(\"End of for loop\")\n",
    "        \n",
    "        \n",
    "    "
   ]
  },
  {
   "cell_type": "code",
   "execution_count": null,
   "metadata": {},
   "outputs": [],
   "source": []
  },
  {
   "cell_type": "code",
   "execution_count": null,
   "metadata": {},
   "outputs": [],
   "source": []
  }
 ],
 "metadata": {
  "kernelspec": {
   "display_name": "Python 3",
   "language": "python",
   "name": "python3"
  },
  "language_info": {
   "codemirror_mode": {
    "name": "ipython",
    "version": 3
   },
   "file_extension": ".py",
   "mimetype": "text/x-python",
   "name": "python",
   "nbconvert_exporter": "python",
   "pygments_lexer": "ipython3",
   "version": "3.8.5"
  }
 },
 "nbformat": 4,
 "nbformat_minor": 4
}
