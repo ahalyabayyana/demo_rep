{
 "cells": [
  {
   "cell_type": "code",
   "execution_count": 104,
   "metadata": {},
   "outputs": [
    {
     "name": "stdout",
     "output_type": "stream",
     "text": [
      "[3, 23, 34, 56, 56, 67, 87]\n"
     ]
    },
    {
     "data": {
      "text/plain": [
       "[(2, 3), (3, 5), (7, 1)]"
      ]
     },
     "execution_count": 104,
     "metadata": {},
     "output_type": "execute_result"
    }
   ],
   "source": [
    "l1=[56,34,23,56,67,87,3]\n",
    "l1.sort()\n",
    "print(l1)\n",
    "l2=[(3,5),(2,3),(7,1)]\n",
    "l2.sort()\n",
    "l2.sort()\n",
    "l2"
   ]
  },
  {
   "cell_type": "code",
   "execution_count": 63,
   "metadata": {},
   "outputs": [
    {
     "data": {
      "text/plain": [
       "[10, 20, 30, 40, 50, 50, 60]"
      ]
     },
     "execution_count": 63,
     "metadata": {},
     "output_type": "execute_result"
    }
   ],
   "source": [
    "a1"
   ]
  },
  {
   "cell_type": "code",
   "execution_count": 64,
   "metadata": {},
   "outputs": [
    {
     "data": {
      "text/plain": [
       "[10, 20, 30, 40, 50, 50, 60]"
      ]
     },
     "execution_count": 64,
     "metadata": {},
     "output_type": "execute_result"
    }
   ],
   "source": [
    "a1.sort();\n",
    "a1"
   ]
  },
  {
   "cell_type": "code",
   "execution_count": 41,
   "metadata": {},
   "outputs": [],
   "source": [
    "a2=[100,20,30,10,2,30,11,1242,31]"
   ]
  },
  {
   "cell_type": "code",
   "execution_count": 45,
   "metadata": {},
   "outputs": [
    {
     "name": "stdout",
     "output_type": "stream",
     "text": [
      "None\n"
     ]
    }
   ],
   "source": [
    "print(list.sort(a2))"
   ]
  },
  {
   "cell_type": "code",
   "execution_count": 84,
   "metadata": {},
   "outputs": [
    {
     "name": "stdout",
     "output_type": "stream",
     "text": [
      "[1, 2, 3, 4]\n",
      "[1, 4, 2, 3]\n"
     ]
    }
   ],
   "source": [
    "aList = [1, 4, 2, 3];\n",
    "print(sorted(aList));\n",
    "print(aList)"
   ]
  },
  {
   "cell_type": "code",
   "execution_count": 100,
   "metadata": {},
   "outputs": [
    {
     "name": "stdout",
     "output_type": "stream",
     "text": [
      "[64, 56, 56, 45, 45, 40, 23, 12, 3]\n",
      "56\n",
      "56\n",
      "45\n",
      "45\n",
      "Yes Duplicates : 4\n"
     ]
    }
   ],
   "source": [
    "list1=[40,3,45,12,56,23,64,56,45]\n",
    "\n",
    "list1.sort(reverse=True)\n",
    "print(list1)\n",
    "j=0\n",
    "for i in list1:\n",
    "    if list1.count(i)>1:\n",
    "        print(i)\n",
    "        j=j+1\n",
    "print(f\"Yes Duplicates : {j}\")\n"
   ]
  },
  {
   "cell_type": "code",
   "execution_count": 103,
   "metadata": {},
   "outputs": [
    {
     "name": "stdout",
     "output_type": "stream",
     "text": [
      "45\n",
      "56\n",
      "56\n",
      "45\n",
      "Yes Duplicates : 4\n"
     ]
    }
   ],
   "source": [
    "t1=(40,3,45,12,56,23,64,56,45)\n",
    "j=0\n",
    "for i in t1:\n",
    "    if t1.count(i)>1:\n",
    "        print(i)\n",
    "        j=j+1\n",
    "print(f\"Yes Duplicates : {j}\")"
   ]
  },
  {
   "cell_type": "code",
   "execution_count": 75,
   "metadata": {},
   "outputs": [
    {
     "name": "stdout",
     "output_type": "stream",
     "text": [
      "[1, 12, 22, 23, 34, 2234, 3123]\n",
      "{1, 34, 12, 3123, 22, 23, 2234}\n"
     ]
    }
   ],
   "source": [
    "set1={23,34,1,2234,3123,22,12}\n",
    "print(sorted(set1))\n",
    "print(set1)"
   ]
  },
  {
   "cell_type": "code",
   "execution_count": 76,
   "metadata": {},
   "outputs": [
    {
     "name": "stdout",
     "output_type": "stream",
     "text": [
      "[3, 11, 12, 12, 21, 23, 34, 54]\n",
      "(12, 23, 34, 54, 21, 11, 12, 3)\n"
     ]
    }
   ],
   "source": [
    "tuple1=(12,23,34,54,21,11,12,3)\n",
    "print(sorted(tuple1))\n",
    "print(tuple1)"
   ]
  },
  {
   "cell_type": "code",
   "execution_count": 78,
   "metadata": {},
   "outputs": [
    {
     "name": "stdout",
     "output_type": "stream",
     "text": [
      "['a', 'b', 'c', 'f']\n",
      "{'c': 4, 'f': 23, 'b': 3, 'a': 34}\n"
     ]
    }
   ],
   "source": [
    "dict1={\"c\":4,\"f\":23,\"b\":3,\"a\":34}\n",
    "print(sorted(dict1))\n",
    "print(dict1)"
   ]
  },
  {
   "cell_type": "code",
   "execution_count": 88,
   "metadata": {},
   "outputs": [
    {
     "name": "stdout",
     "output_type": "stream",
     "text": [
      "['H', 'e', 'l', 'l', 'o']\n",
      "Hello\n"
     ]
    }
   ],
   "source": [
    "str1=\"Hello\"\n",
    "print(sorted(str1))\n",
    "print(str1)"
   ]
  },
  {
   "cell_type": "code",
   "execution_count": 93,
   "metadata": {},
   "outputs": [
    {
     "name": "stdout",
     "output_type": "stream",
     "text": [
      "hello How are you doing today ?\n"
     ]
    }
   ],
   "source": [
    "t1=(\"hello\",\"How\",\"are\",\"you\",\"doing\",\"today\",\"?\")\n",
    "print(\" \".join(t1))"
   ]
  },
  {
   "cell_type": "code",
   "execution_count": 94,
   "metadata": {},
   "outputs": [
    {
     "name": "stdout",
     "output_type": "stream",
     "text": [
      "hello How are you doing today ?\n"
     ]
    }
   ],
   "source": [
    "list_str=[\"hello\",\"How\",\"are\",\"you\",\"doing\",\"today\",\"?\"]\n",
    "print(\" \".join(list_str))"
   ]
  },
  {
   "cell_type": "code",
   "execution_count": 95,
   "metadata": {},
   "outputs": [
    {
     "name": "stdout",
     "output_type": "stream",
     "text": [
      "you today doing are ? hello How\n"
     ]
    }
   ],
   "source": [
    "set_str={\"hello\",\"How\",\"are\",\"you\",\"doing\",\"today\",\"?\"}\n",
    "print(\" \".join(set_str))"
   ]
  },
  {
   "cell_type": "code",
   "execution_count": 96,
   "metadata": {},
   "outputs": [
    {
     "name": "stdout",
     "output_type": "stream",
     "text": [
      "how are hello you ?\n"
     ]
    }
   ],
   "source": [
    "dict_str={\"how\":1,\"are\":3,\"hello\":4,\"you\":2,\"?\":5}\n",
    "print(\" \".join(dict_str))"
   ]
  },
  {
   "cell_type": "code",
   "execution_count": 105,
   "metadata": {},
   "outputs": [
    {
     "name": "stdout",
     "output_type": "stream",
     "text": [
      "<class 'enumerate'>\n",
      "[(0, 'Thu'), (1, 'Tue'), (2, 'Mon'), (3, 'Wed')]\n",
      "[(5, 'Thu'), (6, 'Tue'), (7, 'Mon'), (8, 'Wed')]\n"
     ]
    }
   ],
   "source": [
    "days= { 'Mon', 'Tue', 'Wed','Thu'}\n",
    "enum_days = enumerate(days)\n",
    "print(type(enum_days))\n",
    "\n",
    "# converting it to alist\n",
    "print(list(enum_days))\n",
    "\n",
    "# changing the default counter to 5\n",
    "enum_days = enumerate(days, 5)\n",
    "print(list(enum_days))"
   ]
  },
  {
   "cell_type": "code",
   "execution_count": null,
   "metadata": {},
   "outputs": [],
   "source": []
  }
 ],
 "metadata": {
  "kernelspec": {
   "display_name": "Python 3",
   "language": "python",
   "name": "python3"
  },
  "language_info": {
   "codemirror_mode": {
    "name": "ipython",
    "version": 3
   },
   "file_extension": ".py",
   "mimetype": "text/x-python",
   "name": "python",
   "nbconvert_exporter": "python",
   "pygments_lexer": "ipython3",
   "version": "3.8.5"
  }
 },
 "nbformat": 4,
 "nbformat_minor": 4
}
