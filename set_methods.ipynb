{
 "cells": [
  {
   "cell_type": "code",
   "execution_count": 2,
   "metadata": {},
   "outputs": [
    {
     "data": {
      "text/plain": [
       "set()"
      ]
     },
     "execution_count": 2,
     "metadata": {},
     "output_type": "execute_result"
    }
   ],
   "source": [
    "empty_set=set()\n",
    "empty_set"
   ]
  },
  {
   "cell_type": "code",
   "execution_count": null,
   "metadata": {},
   "outputs": [],
   "source": [
    "n1={123,234,345,567}\n",
    "n1.add(890)\n",
    "n1\n",
    "n1.discard(456)\n"
   ]
  },
  {
   "cell_type": "code",
   "execution_count": 10,
   "metadata": {},
   "outputs": [],
   "source": [
    "n1.discard(456)"
   ]
  },
  {
   "cell_type": "code",
   "execution_count": 119,
   "metadata": {},
   "outputs": [
    {
     "name": "stdout",
     "output_type": "stream",
     "text": [
      "{3, 4, 5}\n"
     ]
    }
   ],
   "source": [
    "n1={1,3,4,5}\n",
    "n2={2,3,4,5}\n",
    "n3={5,6,7,8,9,0}\n",
    "\n",
    "\n",
    "n1.discard(1)\n",
    "print(n1)\n",
    "#n2.union(n3)\n",
    "#print(n2)\n"
   ]
  },
  {
   "cell_type": "code",
   "execution_count": 85,
   "metadata": {},
   "outputs": [
    {
     "name": "stdout",
     "output_type": "stream",
     "text": [
      "Enter a set1 of values:(1,2,3,4)\n",
      "Enter set2 of values:(3,4,5,6)\n"
     ]
    },
    {
     "data": {
      "text/plain": [
       "<function __main__.setexercise(set1='(1,2,3,4)', set2='(3,4,5,6)')>"
      ]
     },
     "execution_count": 85,
     "metadata": {},
     "output_type": "execute_result"
    }
   ],
   "source": [
    "def setexercise(set1=input(\"Enter a set1 of values:\"),set2=input(\"Enter set2 of values:\")):\n",
    "    if(set1.union(set2)!={}):\n",
    "        set1.union(set2)\n",
    "    else:\n",
    "            print(\"returns empty set\")\n",
    "                      \n",
    "setexercise    "
   ]
  },
  {
   "cell_type": "code",
   "execution_count": 83,
   "metadata": {},
   "outputs": [
    {
     "data": {
      "text/plain": [
       "{'1', '2', '3', '4', '5'}"
      ]
     },
     "execution_count": 83,
     "metadata": {},
     "output_type": "execute_result"
    }
   ],
   "source": [
    "set1={'1','4','3','2'}\n",
    "set2={'4','3','2','5'}\n",
    "set1.union(set2)\n"
   ]
  },
  {
   "cell_type": "code",
   "execution_count": 73,
   "metadata": {},
   "outputs": [
    {
     "data": {
      "text/plain": [
       "{0, 2, 3, 4, 5, 6, 7, 8, 9}"
      ]
     },
     "execution_count": 73,
     "metadata": {},
     "output_type": "execute_result"
    }
   ],
   "source": [
    "n1={1,3,4,5}\n",
    "n2={2,3,4,5}\n",
    "n3={5,6,7,8,9,0}\n",
    "\n",
    "\n",
    "n2.union(n3)\n",
    "\n",
    "#n2.union(n3)\n",
    "#print(n2)"
   ]
  },
  {
   "cell_type": "code",
   "execution_count": 44,
   "metadata": {},
   "outputs": [
    {
     "data": {
      "text/plain": [
       "{0, 1, 3, 4, 5, 6, 7, 8, 9}"
      ]
     },
     "execution_count": 44,
     "metadata": {},
     "output_type": "execute_result"
    }
   ],
   "source": [
    "n1.union(n3)\n"
   ]
  },
  {
   "cell_type": "code",
   "execution_count": 52,
   "metadata": {},
   "outputs": [
    {
     "data": {
      "text/plain": [
       "False"
      ]
     },
     "execution_count": 52,
     "metadata": {},
     "output_type": "execute_result"
    }
   ],
   "source": [
    "n3.issubset({12,23,55})"
   ]
  },
  {
   "cell_type": "code",
   "execution_count": 53,
   "metadata": {},
   "outputs": [
    {
     "data": {
      "text/plain": [
       "False"
      ]
     },
     "execution_count": 53,
     "metadata": {},
     "output_type": "execute_result"
    }
   ],
   "source": [
    "n2.issuperset({12,43,456})"
   ]
  },
  {
   "cell_type": "code",
   "execution_count": 55,
   "metadata": {},
   "outputs": [
    {
     "data": {
      "text/plain": [
       "{1}"
      ]
     },
     "execution_count": 55,
     "metadata": {},
     "output_type": "execute_result"
    }
   ],
   "source": [
    "n1={1,3,4,5}\n",
    "n2={2,3,4,5}\n",
    "n3={5,6,7,8,9,0}\n",
    "n1.difference_update(n2)\n",
    "n1"
   ]
  },
  {
   "cell_type": "code",
   "execution_count": 56,
   "metadata": {},
   "outputs": [
    {
     "name": "stdout",
     "output_type": "stream",
     "text": [
      "{2, 3, 4}\n"
     ]
    }
   ],
   "source": [
    "n2.difference_update(n3)\n",
    "print(n2)"
   ]
  },
  {
   "cell_type": "code",
   "execution_count": 57,
   "metadata": {},
   "outputs": [
    {
     "data": {
      "text/plain": [
       "({1}, {2, 3, 4}, {0, 5, 6, 7, 8, 9})"
      ]
     },
     "execution_count": 57,
     "metadata": {},
     "output_type": "execute_result"
    }
   ],
   "source": [
    "n1,n2,n3"
   ]
  },
  {
   "cell_type": "code",
   "execution_count": 64,
   "metadata": {},
   "outputs": [
    {
     "name": "stdout",
     "output_type": "stream",
     "text": [
      "{0, 'l', 5, 6, 7, 8, 9, 'e', 'o', 'h'}\n"
     ]
    }
   ],
   "source": [
    "n4={\"h\",\"e\",\"l\",\"l\",\"o\"}\n",
    "n3.update(n4)\n",
    "print(n3)"
   ]
  },
  {
   "cell_type": "code",
   "execution_count": 61,
   "metadata": {},
   "outputs": [
    {
     "data": {
      "text/plain": [
       "False"
      ]
     },
     "execution_count": 61,
     "metadata": {},
     "output_type": "execute_result"
    }
   ],
   "source": [
    "n3.isdisjoint(n4)"
   ]
  },
  {
   "cell_type": "code",
   "execution_count": 66,
   "metadata": {},
   "outputs": [
    {
     "data": {
      "text/plain": [
       "False"
      ]
     },
     "execution_count": 66,
     "metadata": {},
     "output_type": "execute_result"
    }
   ],
   "source": [
    "n3.issubset(n4)"
   ]
  },
  {
   "cell_type": "code",
   "execution_count": 70,
   "metadata": {},
   "outputs": [
    {
     "name": "stdout",
     "output_type": "stream",
     "text": [
      "Result of the operation set1.union(set2) is 5\n"
     ]
    }
   ],
   "source": [
    "o=5\n",
    "print(f\"Result of the operation set1.union(set2) is {o}\")\n"
   ]
  },
  {
   "cell_type": "code",
   "execution_count": 169,
   "metadata": {},
   "outputs": [
    {
     "name": "stdout",
     "output_type": "stream",
     "text": [
      "Enter the value to discard from set1:4\n",
      "The items of set1 after discarding 4 is {1, 2, 3, 4}\n"
     ]
    }
   ],
   "source": [
    "def setmethods(set1,set2,operation):\n",
    "    if(operation==\"difference\"):\n",
    "        if(set1.difference(set2)==set()):\n",
    "         print(\"there is no differnce values\")\n",
    "        else:\n",
    "            print(set1.difference(set2))\n",
    "    elif(operation==\"difference_update\"):\n",
    "        set1.difference_update(set2)\n",
    "        print(f\"The values of set1 after difference update:{set1}\")  \n",
    "    elif(operation==\"superset\"):\n",
    "        if(set1.issuperset(s2)==True):\n",
    "            print(\"set1 is superset of set2\")\n",
    "        elif(set2.issuperset(s1)==True):\n",
    "            print(\"set2 is superset of set1\")\n",
    "        else:\n",
    "            print(\"s1 is not superset of s2 and also s2 is not superset of s1\")\n",
    "    elif(operation==\"subset\"):\n",
    "        if(set1.issubset(s2)==True):\n",
    "            print(\"set1 is subset of set2\")\n",
    "        elif(set2.issubset(s1)==True):\n",
    "            print(\"set2 is subset of set1\")\n",
    "        else:\n",
    "            print(\"s1 is not subset of s2 and also s2 is not subset of s1\")        \n",
    "    elif(operation==\"union\"):\n",
    "        print(f\"The union of set1 and set2 is {set1.union(set2)}\")\n",
    "    elif(operation==\"disjoint\"):\n",
    "        print(f\"disjoint of set 1 and set2 is {set1.isdisjoint(s2)}\")\n",
    "    elif(operation==\"update\"):\n",
    "        set1.update(set2)\n",
    "        print(f\"the set s2 is being updated to set1 = {set1}\")\n",
    "    elif(operation==\"discard\"):\n",
    "        x=input(\"Enter the value to discard from set1:\")\n",
    "        set1.discard(x)\n",
    "        print(f\"The items of set1 after discarding {x} is {set1}\")\n",
    "    elif(operation==\"max\"):\n",
    "        print(f\"The max number in set1 is {max(set1)}\")\n",
    "    elif(operation==\"min\"):\n",
    "        print(f\"The min number in set1 is {min(set1)}\")\n",
    "    elif(operation==\"intersection\"):\n",
    "        print(f\"The common values in set1 and set2 are {set1.intersection(set2)}\")\n",
    "    elif(operation==\"intersection_update\"):\n",
    "        set1.intersection_update(set2)\n",
    "        print(f\"The intersection update values of set1 after updating {set1}\")\n",
    "    \n",
    "    \n",
    "        \n",
    "        \n",
    "            \n",
    "\n",
    "s1={1,2,3,4}\n",
    "s2={5,4,7,8}\n",
    "# The value of operation can be \n",
    "#difference,difference_update,superset,subset,union,disjoint,update,discard,max,min,intersection,intersection_update\n",
    "setmethods(s1,s2,\"discard\")            \n",
    "            \n",
    "    \n"
   ]
  },
  {
   "cell_type": "code",
   "execution_count": 170,
   "metadata": {},
   "outputs": [
    {
     "name": "stdout",
     "output_type": "stream",
     "text": [
      "{1, 2, 3}\n"
     ]
    }
   ],
   "source": [
    "s1={1,2,3,4}\n",
    "s2={3,4}\n",
    "s1.discard(4)\n",
    "print(s1)"
   ]
  },
  {
   "cell_type": "code",
   "execution_count": 176,
   "metadata": {},
   "outputs": [
    {
     "name": "stdout",
     "output_type": "stream",
     "text": [
      "please enter the values for set1 :12 345\n",
      "please enter the values for set2 :12 45 67\n",
      "Enter the the type of operation:union\n",
      "The union of set1 and set2 is {'1', '7', '4', '3', '2', '6', ' ', '5'}\n"
     ]
    }
   ],
   "source": [
    "def setmethods1():\n",
    "    set1=input(\"please enter the values for set1 :\")\n",
    "    set1=set(set1)\n",
    "    set2=input(\"please enter the values for set2 :\")\n",
    "    set2=set(set2)\n",
    "    operation=input(\"Enter the the type of operation:\")\n",
    "    if(operation==\"difference\"):\n",
    "        if(set1.difference(set2)==set()):\n",
    "         print(\"there is no differnce values\")\n",
    "        else:\n",
    "            print(set1.difference(set2))\n",
    "    elif(operation==\"superset\"):\n",
    "        if(set1.issuperset(s2)==True):\n",
    "            print(\"set1 is superset of set2\")\n",
    "        elif(set2.issuperset(s1)==True):\n",
    "            print(\"set2 is superset of set1\")\n",
    "        else:\n",
    "            print(\"s1 is not superset of s2 and also s2 is not superset of s1\")\n",
    "    elif(operation==\"subset\"):\n",
    "        if(set1.issubset(s2)==True):\n",
    "            print(\"set1 is subset of set2\")\n",
    "        elif(set2.issubset(s1)==True):\n",
    "            print(\"set2 is subset of set1\")\n",
    "        else:\n",
    "            print(\"s1 is not subset of s2 and also s2 is not subset of s1\")        \n",
    "    elif(operation==\"union\"):\n",
    "        print(f\"The union of set1 and set2 is {set1.union(set2)}\")\n",
    "    elif(operation==\"disjoint\"):\n",
    "        print(f\"intersection of set 1 and set2 is {set1.isdisjoint(s2)}\")\n",
    "    elif(operation==\"update\"):\n",
    "        set1.update(set2)\n",
    "        print(f\"the set s2 is being updated to set1 = {set1}\")\n",
    "    elif(operation==\"discard\"):\n",
    "        x=input(\"Enter the value to discard from set1:\")\n",
    "        set1.discard(x)\n",
    "        print(f\"The items of set1 after discarding {x} is {set1}\")\n",
    "    elif(operation==\"max\"):\n",
    "        print(f\"The max number in set1 is {max(set1)}\")\n",
    "    elif(operation==\"min\"):\n",
    "        print(f\"The min number in set1 is {min(set1)}\")\n",
    "    elif(operation==\"intersection\"):\n",
    "        print(f\"The common values in set1 and set2 are {set1.intersection(set2)}\")\n",
    "    elif(operation==\"intersection_update\"):\n",
    "        set1.intersection_update(set2)\n",
    "        print(f\"The intersection update values of set1 after updating {set1}\")\n",
    "setmethods1()       "
   ]
  },
  {
   "cell_type": "code",
   "execution_count": null,
   "metadata": {},
   "outputs": [],
   "source": [
    "setmethods1()"
   ]
  },
  {
   "cell_type": "code",
   "execution_count": 151,
   "metadata": {},
   "outputs": [
    {
     "data": {
      "text/plain": [
       "{1, 2}"
      ]
     },
     "execution_count": 151,
     "metadata": {},
     "output_type": "execute_result"
    }
   ],
   "source": [
    "set1={1,2,3,4}\n",
    "set2={3,4,5,6}\n",
    "set1.difference(set2)"
   ]
  },
  {
   "cell_type": "code",
   "execution_count": null,
   "metadata": {},
   "outputs": [],
   "source": []
  }
 ],
 "metadata": {
  "kernelspec": {
   "display_name": "Python 3",
   "language": "python",
   "name": "python3"
  },
  "language_info": {
   "codemirror_mode": {
    "name": "ipython",
    "version": 3
   },
   "file_extension": ".py",
   "mimetype": "text/x-python",
   "name": "python",
   "nbconvert_exporter": "python",
   "pygments_lexer": "ipython3",
   "version": "3.8.5"
  }
 },
 "nbformat": 4,
 "nbformat_minor": 4
}
